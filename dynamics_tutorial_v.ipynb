{
  "nbformat": 4,
  "nbformat_minor": 0,
  "metadata": {
    "colab": {
      "provenance": [],
      "collapsed_sections": [
        "KMBsxc4kjnio",
        "7ZR6HtIf_qES",
        "UOhRY8bnBKPQ",
        "S7H_vpXwyxjS",
        "hW_ALfI_zXoF",
        "1BBSyFttkjvK",
        "TNf9RznF1tFg",
        "jjQKYkCu1YBf",
        "6WfLwgTNPmXG",
        "_Zr-6g5YkqD6",
        "wLe2H-SAuIrl",
        "K1dE74Cfqydg",
        "wx49zafMst8e",
        "VhBiZ_7Gs6lQ",
        "25nnoaKStHfc",
        "07YuSGjpolRo",
        "KyLQ4toofT2v",
        "HuRUpkR2SPMf"
      ],
      "toc_visible": true,
      "include_colab_link": true
    },
    "kernelspec": {
      "name": "python3",
      "display_name": "Python 3"
    },
    "language_info": {
      "name": "python"
    },
    "widgets": {
      "application/vnd.jupyter.widget-state+json": {
        "35b3fa0d83264da79d4c96eae498ba53": {
          "model_module": "@jupyter-widgets/controls",
          "model_name": "HBoxModel",
          "model_module_version": "1.5.0",
          "state": {
            "_dom_classes": [],
            "_model_module": "@jupyter-widgets/controls",
            "_model_module_version": "1.5.0",
            "_model_name": "HBoxModel",
            "_view_count": null,
            "_view_module": "@jupyter-widgets/controls",
            "_view_module_version": "1.5.0",
            "_view_name": "HBoxView",
            "box_style": "",
            "children": [
              "IPY_MODEL_3bf38661f399407d89898be072623d6e",
              "IPY_MODEL_1ac2d152bc1f43fb91d3ce18378d54bc",
              "IPY_MODEL_c14af94f7f8c41a5b857aaea44ecc2c3"
            ],
            "layout": "IPY_MODEL_34ff07834ebc4443b3e110bfb9b73c4d"
          }
        },
        "3bf38661f399407d89898be072623d6e": {
          "model_module": "@jupyter-widgets/controls",
          "model_name": "HTMLModel",
          "model_module_version": "1.5.0",
          "state": {
            "_dom_classes": [],
            "_model_module": "@jupyter-widgets/controls",
            "_model_module_version": "1.5.0",
            "_model_name": "HTMLModel",
            "_view_count": null,
            "_view_module": "@jupyter-widgets/controls",
            "_view_module_version": "1.5.0",
            "_view_name": "HTMLView",
            "description": "",
            "description_tooltip": null,
            "layout": "IPY_MODEL_24b9a2d360864eafadeeb618fa6b45d0",
            "placeholder": "​",
            "style": "IPY_MODEL_3efcafcfbf324741a72af82351a746a9",
            "value": "100%"
          }
        },
        "1ac2d152bc1f43fb91d3ce18378d54bc": {
          "model_module": "@jupyter-widgets/controls",
          "model_name": "FloatProgressModel",
          "model_module_version": "1.5.0",
          "state": {
            "_dom_classes": [],
            "_model_module": "@jupyter-widgets/controls",
            "_model_module_version": "1.5.0",
            "_model_name": "FloatProgressModel",
            "_view_count": null,
            "_view_module": "@jupyter-widgets/controls",
            "_view_module_version": "1.5.0",
            "_view_name": "ProgressView",
            "bar_style": "success",
            "description": "",
            "description_tooltip": null,
            "layout": "IPY_MODEL_d60bd5bb834b40149a0308c46297529d",
            "max": 256,
            "min": 0,
            "orientation": "horizontal",
            "style": "IPY_MODEL_c585487bad144f58a79068f3bcdbdda4",
            "value": 256
          }
        },
        "c14af94f7f8c41a5b857aaea44ecc2c3": {
          "model_module": "@jupyter-widgets/controls",
          "model_name": "HTMLModel",
          "model_module_version": "1.5.0",
          "state": {
            "_dom_classes": [],
            "_model_module": "@jupyter-widgets/controls",
            "_model_module_version": "1.5.0",
            "_model_name": "HTMLModel",
            "_view_count": null,
            "_view_module": "@jupyter-widgets/controls",
            "_view_module_version": "1.5.0",
            "_view_name": "HTMLView",
            "description": "",
            "description_tooltip": null,
            "layout": "IPY_MODEL_3e0564a9e58344fa9ea3a6d12b0a22c9",
            "placeholder": "​",
            "style": "IPY_MODEL_46f6c01c9dd445c9b9c5119e74d29f02",
            "value": " 256/256 [00:00&lt;00:00, 2517.06it/s]"
          }
        },
        "34ff07834ebc4443b3e110bfb9b73c4d": {
          "model_module": "@jupyter-widgets/base",
          "model_name": "LayoutModel",
          "model_module_version": "1.2.0",
          "state": {
            "_model_module": "@jupyter-widgets/base",
            "_model_module_version": "1.2.0",
            "_model_name": "LayoutModel",
            "_view_count": null,
            "_view_module": "@jupyter-widgets/base",
            "_view_module_version": "1.2.0",
            "_view_name": "LayoutView",
            "align_content": null,
            "align_items": null,
            "align_self": null,
            "border": null,
            "bottom": null,
            "display": null,
            "flex": null,
            "flex_flow": null,
            "grid_area": null,
            "grid_auto_columns": null,
            "grid_auto_flow": null,
            "grid_auto_rows": null,
            "grid_column": null,
            "grid_gap": null,
            "grid_row": null,
            "grid_template_areas": null,
            "grid_template_columns": null,
            "grid_template_rows": null,
            "height": null,
            "justify_content": null,
            "justify_items": null,
            "left": null,
            "margin": null,
            "max_height": null,
            "max_width": null,
            "min_height": null,
            "min_width": null,
            "object_fit": null,
            "object_position": null,
            "order": null,
            "overflow": null,
            "overflow_x": null,
            "overflow_y": null,
            "padding": null,
            "right": null,
            "top": null,
            "visibility": null,
            "width": null
          }
        },
        "24b9a2d360864eafadeeb618fa6b45d0": {
          "model_module": "@jupyter-widgets/base",
          "model_name": "LayoutModel",
          "model_module_version": "1.2.0",
          "state": {
            "_model_module": "@jupyter-widgets/base",
            "_model_module_version": "1.2.0",
            "_model_name": "LayoutModel",
            "_view_count": null,
            "_view_module": "@jupyter-widgets/base",
            "_view_module_version": "1.2.0",
            "_view_name": "LayoutView",
            "align_content": null,
            "align_items": null,
            "align_self": null,
            "border": null,
            "bottom": null,
            "display": null,
            "flex": null,
            "flex_flow": null,
            "grid_area": null,
            "grid_auto_columns": null,
            "grid_auto_flow": null,
            "grid_auto_rows": null,
            "grid_column": null,
            "grid_gap": null,
            "grid_row": null,
            "grid_template_areas": null,
            "grid_template_columns": null,
            "grid_template_rows": null,
            "height": null,
            "justify_content": null,
            "justify_items": null,
            "left": null,
            "margin": null,
            "max_height": null,
            "max_width": null,
            "min_height": null,
            "min_width": null,
            "object_fit": null,
            "object_position": null,
            "order": null,
            "overflow": null,
            "overflow_x": null,
            "overflow_y": null,
            "padding": null,
            "right": null,
            "top": null,
            "visibility": null,
            "width": null
          }
        },
        "3efcafcfbf324741a72af82351a746a9": {
          "model_module": "@jupyter-widgets/controls",
          "model_name": "DescriptionStyleModel",
          "model_module_version": "1.5.0",
          "state": {
            "_model_module": "@jupyter-widgets/controls",
            "_model_module_version": "1.5.0",
            "_model_name": "DescriptionStyleModel",
            "_view_count": null,
            "_view_module": "@jupyter-widgets/base",
            "_view_module_version": "1.2.0",
            "_view_name": "StyleView",
            "description_width": ""
          }
        },
        "d60bd5bb834b40149a0308c46297529d": {
          "model_module": "@jupyter-widgets/base",
          "model_name": "LayoutModel",
          "model_module_version": "1.2.0",
          "state": {
            "_model_module": "@jupyter-widgets/base",
            "_model_module_version": "1.2.0",
            "_model_name": "LayoutModel",
            "_view_count": null,
            "_view_module": "@jupyter-widgets/base",
            "_view_module_version": "1.2.0",
            "_view_name": "LayoutView",
            "align_content": null,
            "align_items": null,
            "align_self": null,
            "border": null,
            "bottom": null,
            "display": null,
            "flex": null,
            "flex_flow": null,
            "grid_area": null,
            "grid_auto_columns": null,
            "grid_auto_flow": null,
            "grid_auto_rows": null,
            "grid_column": null,
            "grid_gap": null,
            "grid_row": null,
            "grid_template_areas": null,
            "grid_template_columns": null,
            "grid_template_rows": null,
            "height": null,
            "justify_content": null,
            "justify_items": null,
            "left": null,
            "margin": null,
            "max_height": null,
            "max_width": null,
            "min_height": null,
            "min_width": null,
            "object_fit": null,
            "object_position": null,
            "order": null,
            "overflow": null,
            "overflow_x": null,
            "overflow_y": null,
            "padding": null,
            "right": null,
            "top": null,
            "visibility": null,
            "width": null
          }
        },
        "c585487bad144f58a79068f3bcdbdda4": {
          "model_module": "@jupyter-widgets/controls",
          "model_name": "ProgressStyleModel",
          "model_module_version": "1.5.0",
          "state": {
            "_model_module": "@jupyter-widgets/controls",
            "_model_module_version": "1.5.0",
            "_model_name": "ProgressStyleModel",
            "_view_count": null,
            "_view_module": "@jupyter-widgets/base",
            "_view_module_version": "1.2.0",
            "_view_name": "StyleView",
            "bar_color": null,
            "description_width": ""
          }
        },
        "3e0564a9e58344fa9ea3a6d12b0a22c9": {
          "model_module": "@jupyter-widgets/base",
          "model_name": "LayoutModel",
          "model_module_version": "1.2.0",
          "state": {
            "_model_module": "@jupyter-widgets/base",
            "_model_module_version": "1.2.0",
            "_model_name": "LayoutModel",
            "_view_count": null,
            "_view_module": "@jupyter-widgets/base",
            "_view_module_version": "1.2.0",
            "_view_name": "LayoutView",
            "align_content": null,
            "align_items": null,
            "align_self": null,
            "border": null,
            "bottom": null,
            "display": null,
            "flex": null,
            "flex_flow": null,
            "grid_area": null,
            "grid_auto_columns": null,
            "grid_auto_flow": null,
            "grid_auto_rows": null,
            "grid_column": null,
            "grid_gap": null,
            "grid_row": null,
            "grid_template_areas": null,
            "grid_template_columns": null,
            "grid_template_rows": null,
            "height": null,
            "justify_content": null,
            "justify_items": null,
            "left": null,
            "margin": null,
            "max_height": null,
            "max_width": null,
            "min_height": null,
            "min_width": null,
            "object_fit": null,
            "object_position": null,
            "order": null,
            "overflow": null,
            "overflow_x": null,
            "overflow_y": null,
            "padding": null,
            "right": null,
            "top": null,
            "visibility": null,
            "width": null
          }
        },
        "46f6c01c9dd445c9b9c5119e74d29f02": {
          "model_module": "@jupyter-widgets/controls",
          "model_name": "DescriptionStyleModel",
          "model_module_version": "1.5.0",
          "state": {
            "_model_module": "@jupyter-widgets/controls",
            "_model_module_version": "1.5.0",
            "_model_name": "DescriptionStyleModel",
            "_view_count": null,
            "_view_module": "@jupyter-widgets/base",
            "_view_module_version": "1.2.0",
            "_view_name": "StyleView",
            "description_width": ""
          }
        }
      }
    }
  },
  "cells": [
    {
      "cell_type": "markdown",
      "metadata": {
        "id": "view-in-github",
        "colab_type": "text"
      },
      "source": [
        "<a href=\"https://colab.research.google.com/github/bcallen95/UNH-QC-Tutorials/blob/main/dynamics_tutorial_v.ipynb\" target=\"_parent\"><img src=\"https://colab.research.google.com/assets/colab-badge.svg\" alt=\"Open In Colab\"/></a>"
      ]
    },
    {
      "cell_type": "markdown",
      "source": [],
      "metadata": {
        "id": "RHjP6wC_oWY1"
      }
    },
    {
      "cell_type": "markdown",
      "source": [
        "##**Install Libraries**"
      ],
      "metadata": {
        "id": "rJlnfVafx_aM"
      }
    },
    {
      "cell_type": "code",
      "execution_count": null,
      "metadata": {
        "id": "54iSWiFgxLut",
        "colab": {
          "base_uri": "https://localhost:8080/",
          "height": 1000
        },
        "outputId": "bf61259e-e9a4-455e-bee1-90e81bce26c5"
      },
      "outputs": [
        {
          "output_type": "stream",
          "name": "stdout",
          "text": [
            "Collecting qutip\n",
            "  Downloading qutip-4.7.5-cp310-cp310-manylinux_2_17_x86_64.manylinux2014_x86_64.whl (16.3 MB)\n",
            "\u001b[2K     \u001b[90m━━━━━━━━━━━━━━━━━━━━━━━━━━━━━━━━━━━━━━━━\u001b[0m \u001b[32m16.3/16.3 MB\u001b[0m \u001b[31m59.5 MB/s\u001b[0m eta \u001b[36m0:00:00\u001b[0m\n",
            "\u001b[?25hRequirement already satisfied: numpy>=1.16.6 in /usr/local/lib/python3.10/dist-packages (from qutip) (1.23.5)\n",
            "Requirement already satisfied: scipy>=1.0 in /usr/local/lib/python3.10/dist-packages (from qutip) (1.11.4)\n",
            "Requirement already satisfied: packaging in /usr/local/lib/python3.10/dist-packages (from qutip) (23.2)\n",
            "Installing collected packages: qutip\n",
            "Successfully installed qutip-4.7.5\n",
            "\u001b[2K     \u001b[90m━━━━━━━━━━━━━━━━━━━━━━━━━━━━━━━━━━━━━━━━\u001b[0m \u001b[32m6.3/6.3 MB\u001b[0m \u001b[31m46.3 MB/s\u001b[0m eta \u001b[36m0:00:00\u001b[0m\n",
            "\u001b[2K     \u001b[90m━━━━━━━━━━━━━━━━━━━━━━━━━━━━━━━━━━━━━━━━\u001b[0m \u001b[32m2.2/2.2 MB\u001b[0m \u001b[31m55.1 MB/s\u001b[0m eta \u001b[36m0:00:00\u001b[0m\n",
            "\u001b[2K     \u001b[90m━━━━━━━━━━━━━━━━━━━━━━━━━━━━━━━━━━━━━━━━\u001b[0m \u001b[32m49.6/49.6 kB\u001b[0m \u001b[31m6.3 MB/s\u001b[0m eta \u001b[36m0:00:00\u001b[0m\n",
            "\u001b[2K     \u001b[90m━━━━━━━━━━━━━━━━━━━━━━━━━━━━━━━━━━━━━━━━\u001b[0m \u001b[32m116.3/116.3 kB\u001b[0m \u001b[31m14.3 MB/s\u001b[0m eta \u001b[36m0:00:00\u001b[0m\n",
            "\u001b[2K     \u001b[90m━━━━━━━━━━━━━━━━━━━━━━━━━━━━━━━━━━━━━━━━\u001b[0m \u001b[32m49.6/49.6 kB\u001b[0m \u001b[31m6.1 MB/s\u001b[0m eta \u001b[36m0:00:00\u001b[0m\n",
            "\u001b[2K     \u001b[90m━━━━━━━━━━━━━━━━━━━━━━━━━━━━━━━━━━━━━━━━\u001b[0m \u001b[32m39.4/39.4 MB\u001b[0m \u001b[31m14.0 MB/s\u001b[0m eta \u001b[36m0:00:00\u001b[0m\n",
            "\u001b[2K     \u001b[90m━━━━━━━━━━━━━━━━━━━━━━━━━━━━━━━━━━━━━━━━\u001b[0m \u001b[32m107.5/107.5 kB\u001b[0m \u001b[31m13.1 MB/s\u001b[0m eta \u001b[36m0:00:00\u001b[0m\n",
            "\u001b[?25h  Installing build dependencies ... \u001b[?25l\u001b[?25hdone\n",
            "  Getting requirements to build wheel ... \u001b[?25l\u001b[?25hdone\n",
            "  Preparing metadata (pyproject.toml) ... \u001b[?25l\u001b[?25hdone\n",
            "  Building wheel for ttpy (pyproject.toml) ... \u001b[?25l\u001b[?25hdone\n",
            "Collecting strawberryfields\n",
            "  Downloading StrawberryFields-0.23.0-py3-none-any.whl (4.9 MB)\n",
            "\u001b[2K     \u001b[90m━━━━━━━━━━━━━━━━━━━━━━━━━━━━━━━━━━━━━━━━\u001b[0m \u001b[32m4.9/4.9 MB\u001b[0m \u001b[31m35.5 MB/s\u001b[0m eta \u001b[36m0:00:00\u001b[0m\n",
            "\u001b[?25hRequirement already satisfied: networkx>=2.0 in /usr/local/lib/python3.10/dist-packages (from strawberryfields) (3.2.1)\n",
            "Requirement already satisfied: numba in /usr/local/lib/python3.10/dist-packages (from strawberryfields) (0.58.1)\n",
            "Requirement already satisfied: numpy>=1.17.4 in /usr/local/lib/python3.10/dist-packages (from strawberryfields) (1.23.5)\n",
            "Requirement already satisfied: python-dateutil>=2.8.0 in /usr/local/lib/python3.10/dist-packages (from strawberryfields) (2.8.2)\n",
            "Collecting quantum-blackbird>=0.3.0 (from strawberryfields)\n",
            "  Downloading quantum_blackbird-0.5.0-py3-none-any.whl (48 kB)\n",
            "\u001b[2K     \u001b[90m━━━━━━━━━━━━━━━━━━━━━━━━━━━━━━━━━━━━━━━━\u001b[0m \u001b[32m48.0/48.0 kB\u001b[0m \u001b[31m5.9 MB/s\u001b[0m eta \u001b[36m0:00:00\u001b[0m\n",
            "\u001b[?25hRequirement already satisfied: requests>=2.22.0 in /usr/local/lib/python3.10/dist-packages (from strawberryfields) (2.31.0)\n",
            "Requirement already satisfied: scipy>=1.0.0 in /usr/local/lib/python3.10/dist-packages (from strawberryfields) (1.11.4)\n",
            "Requirement already satisfied: sympy>=1.5 in /usr/local/lib/python3.10/dist-packages (from strawberryfields) (1.12)\n",
            "Collecting thewalrus>=0.18.0 (from strawberryfields)\n",
            "  Downloading thewalrus-0.21.0-py3-none-any.whl (94 kB)\n",
            "\u001b[2K     \u001b[90m━━━━━━━━━━━━━━━━━━━━━━━━━━━━━━━━━━━━━━━━\u001b[0m \u001b[32m94.7/94.7 kB\u001b[0m \u001b[31m12.3 MB/s\u001b[0m eta \u001b[36m0:00:00\u001b[0m\n",
            "\u001b[?25hRequirement already satisfied: toml in /usr/local/lib/python3.10/dist-packages (from strawberryfields) (0.10.2)\n",
            "Requirement already satisfied: urllib3>=1.25.3 in /usr/local/lib/python3.10/dist-packages (from strawberryfields) (2.0.7)\n",
            "Collecting quantum-xir>=0.1.1 (from strawberryfields)\n",
            "  Downloading quantum_xir-0.2.2-py3-none-any.whl (27 kB)\n",
            "Collecting xanadu-cloud-client>=0.2.1 (from strawberryfields)\n",
            "  Downloading xanadu_cloud_client-0.3.2-py3-none-any.whl (25 kB)\n",
            "Requirement already satisfied: six>=1.5 in /usr/local/lib/python3.10/dist-packages (from python-dateutil>=2.8.0->strawberryfields) (1.16.0)\n",
            "Collecting antlr4-python3-runtime==4.9.2 (from quantum-blackbird>=0.3.0->strawberryfields)\n",
            "  Downloading antlr4-python3-runtime-4.9.2.tar.gz (117 kB)\n",
            "\u001b[2K     \u001b[90m━━━━━━━━━━━━━━━━━━━━━━━━━━━━━━━━━━━━━━━━\u001b[0m \u001b[32m117.2/117.2 kB\u001b[0m \u001b[31m13.9 MB/s\u001b[0m eta \u001b[36m0:00:00\u001b[0m\n",
            "\u001b[?25h  Preparing metadata (setup.py) ... \u001b[?25l\u001b[?25hdone\n",
            "Collecting lark-parser>=0.11.0 (from quantum-xir>=0.1.1->strawberryfields)\n",
            "  Downloading lark_parser-0.12.0-py2.py3-none-any.whl (103 kB)\n",
            "\u001b[2K     \u001b[90m━━━━━━━━━━━━━━━━━━━━━━━━━━━━━━━━━━━━━━━━\u001b[0m \u001b[32m103.5/103.5 kB\u001b[0m \u001b[31m13.4 MB/s\u001b[0m eta \u001b[36m0:00:00\u001b[0m\n",
            "\u001b[?25hRequirement already satisfied: charset-normalizer<4,>=2 in /usr/local/lib/python3.10/dist-packages (from requests>=2.22.0->strawberryfields) (3.3.2)\n",
            "Requirement already satisfied: idna<4,>=2.5 in /usr/local/lib/python3.10/dist-packages (from requests>=2.22.0->strawberryfields) (3.6)\n",
            "Requirement already satisfied: certifi>=2017.4.17 in /usr/local/lib/python3.10/dist-packages (from requests>=2.22.0->strawberryfields) (2024.2.2)\n",
            "Requirement already satisfied: mpmath>=0.19 in /usr/local/lib/python3.10/dist-packages (from sympy>=1.5->strawberryfields) (1.3.0)\n",
            "Requirement already satisfied: dask[delayed] in /usr/local/lib/python3.10/dist-packages (from thewalrus>=0.18.0->strawberryfields) (2023.8.1)\n",
            "Requirement already satisfied: llvmlite<0.42,>=0.41.0dev0 in /usr/local/lib/python3.10/dist-packages (from numba->strawberryfields) (0.41.1)\n",
            "Requirement already satisfied: appdirs in /usr/local/lib/python3.10/dist-packages (from xanadu-cloud-client>=0.2.1->strawberryfields) (1.4.4)\n",
            "Collecting fire (from xanadu-cloud-client>=0.2.1->strawberryfields)\n",
            "  Downloading fire-0.5.0.tar.gz (88 kB)\n",
            "\u001b[2K     \u001b[90m━━━━━━━━━━━━━━━━━━━━━━━━━━━━━━━━━━━━━━━━\u001b[0m \u001b[32m88.3/88.3 kB\u001b[0m \u001b[31m11.0 MB/s\u001b[0m eta \u001b[36m0:00:00\u001b[0m\n",
            "\u001b[?25h  Preparing metadata (setup.py) ... \u001b[?25l\u001b[?25hdone\n",
            "Requirement already satisfied: pydantic>=2 in /usr/local/lib/python3.10/dist-packages (from xanadu-cloud-client>=0.2.1->strawberryfields) (2.6.0)\n",
            "Collecting pydantic-settings (from xanadu-cloud-client>=0.2.1->strawberryfields)\n",
            "  Downloading pydantic_settings-2.1.0-py3-none-any.whl (11 kB)\n",
            "Collecting python-dotenv (from xanadu-cloud-client>=0.2.1->strawberryfields)\n",
            "  Downloading python_dotenv-1.0.1-py3-none-any.whl (19 kB)\n",
            "Requirement already satisfied: annotated-types>=0.4.0 in /usr/local/lib/python3.10/dist-packages (from pydantic>=2->xanadu-cloud-client>=0.2.1->strawberryfields) (0.6.0)\n",
            "Requirement already satisfied: pydantic-core==2.16.1 in /usr/local/lib/python3.10/dist-packages (from pydantic>=2->xanadu-cloud-client>=0.2.1->strawberryfields) (2.16.1)\n",
            "Requirement already satisfied: typing-extensions>=4.6.1 in /usr/local/lib/python3.10/dist-packages (from pydantic>=2->xanadu-cloud-client>=0.2.1->strawberryfields) (4.9.0)\n",
            "Requirement already satisfied: click>=8.0 in /usr/local/lib/python3.10/dist-packages (from dask[delayed]->thewalrus>=0.18.0->strawberryfields) (8.1.7)\n",
            "Requirement already satisfied: cloudpickle>=1.5.0 in /usr/local/lib/python3.10/dist-packages (from dask[delayed]->thewalrus>=0.18.0->strawberryfields) (2.2.1)\n",
            "Requirement already satisfied: fsspec>=2021.09.0 in /usr/local/lib/python3.10/dist-packages (from dask[delayed]->thewalrus>=0.18.0->strawberryfields) (2023.6.0)\n",
            "Requirement already satisfied: packaging>=20.0 in /usr/local/lib/python3.10/dist-packages (from dask[delayed]->thewalrus>=0.18.0->strawberryfields) (23.2)\n",
            "Requirement already satisfied: partd>=1.2.0 in /usr/local/lib/python3.10/dist-packages (from dask[delayed]->thewalrus>=0.18.0->strawberryfields) (1.4.1)\n",
            "Requirement already satisfied: pyyaml>=5.3.1 in /usr/local/lib/python3.10/dist-packages (from dask[delayed]->thewalrus>=0.18.0->strawberryfields) (6.0.1)\n",
            "Requirement already satisfied: toolz>=0.10.0 in /usr/local/lib/python3.10/dist-packages (from dask[delayed]->thewalrus>=0.18.0->strawberryfields) (0.12.1)\n",
            "Requirement already satisfied: importlib-metadata>=4.13.0 in /usr/local/lib/python3.10/dist-packages (from dask[delayed]->thewalrus>=0.18.0->strawberryfields) (7.0.1)\n",
            "Requirement already satisfied: termcolor in /usr/local/lib/python3.10/dist-packages (from fire->xanadu-cloud-client>=0.2.1->strawberryfields) (2.4.0)\n",
            "Requirement already satisfied: zipp>=0.5 in /usr/local/lib/python3.10/dist-packages (from importlib-metadata>=4.13.0->dask[delayed]->thewalrus>=0.18.0->strawberryfields) (3.17.0)\n",
            "Requirement already satisfied: locket in /usr/local/lib/python3.10/dist-packages (from partd>=1.2.0->dask[delayed]->thewalrus>=0.18.0->strawberryfields) (1.0.0)\n",
            "Building wheels for collected packages: antlr4-python3-runtime, fire\n",
            "  Building wheel for antlr4-python3-runtime (setup.py) ... \u001b[?25l\u001b[?25hdone\n",
            "  Created wheel for antlr4-python3-runtime: filename=antlr4_python3_runtime-4.9.2-py3-none-any.whl size=144547 sha256=3743b00f4bd0ff6f4e98d11ad9a93ebd4003f8f85b10c349e814b6ae4d8abbe1\n",
            "  Stored in directory: /root/.cache/pip/wheels/af/c8/1f/dd6d90c5974896e85709e017986a6f72fcf32343bea042bc03\n",
            "  Building wheel for fire (setup.py) ... \u001b[?25l\u001b[?25hdone\n",
            "  Created wheel for fire: filename=fire-0.5.0-py2.py3-none-any.whl size=116934 sha256=ee23d2384ad44c477fba7b80c787422b0be9ed358ac79787cfe6faaa59c9cb22\n",
            "  Stored in directory: /root/.cache/pip/wheels/90/d4/f7/9404e5db0116bd4d43e5666eaa3e70ab53723e1e3ea40c9a95\n",
            "Successfully built antlr4-python3-runtime fire\n",
            "Installing collected packages: lark-parser, antlr4-python3-runtime, quantum-xir, python-dotenv, fire, quantum-blackbird, pydantic-settings, xanadu-cloud-client, thewalrus, strawberryfields\n",
            "Successfully installed antlr4-python3-runtime-4.9.2 fire-0.5.0 lark-parser-0.12.0 pydantic-settings-2.1.0 python-dotenv-1.0.1 quantum-blackbird-0.5.0 quantum-xir-0.2.2 strawberryfields-0.23.0 thewalrus-0.21.0 xanadu-cloud-client-0.3.2\n",
            "\u001b[2K     \u001b[90m━━━━━━━━━━━━━━━━━━━━━━━━━━━━━━━━━━━━━━━━\u001b[0m \u001b[32m162.6/162.6 kB\u001b[0m \u001b[31m4.1 MB/s\u001b[0m eta \u001b[36m0:00:00\u001b[0m\n",
            "\u001b[?25h  Preparing metadata (setup.py) ... \u001b[?25l\u001b[?25hdone\n",
            "  Building wheel for pylatexenc (setup.py) ... \u001b[?25l\u001b[?25hdone\n",
            "Collecting numpy==1.23\n",
            "  Downloading numpy-1.23.0-cp310-cp310-manylinux_2_17_x86_64.manylinux2014_x86_64.whl (17.0 MB)\n",
            "\u001b[2K     \u001b[90m━━━━━━━━━━━━━━━━━━━━━━━━━━━━━━━━━━━━━━━━\u001b[0m \u001b[32m17.0/17.0 MB\u001b[0m \u001b[31m48.6 MB/s\u001b[0m eta \u001b[36m0:00:00\u001b[0m\n",
            "\u001b[?25hInstalling collected packages: numpy\n",
            "  Attempting uninstall: numpy\n",
            "    Found existing installation: numpy 1.23.5\n",
            "    Uninstalling numpy-1.23.5:\n",
            "      Successfully uninstalled numpy-1.23.5\n",
            "\u001b[31mERROR: pip's dependency resolver does not currently take into account all the packages that are installed. This behaviour is the source of the following dependency conflicts.\n",
            "lida 0.0.10 requires fastapi, which is not installed.\n",
            "lida 0.0.10 requires kaleido, which is not installed.\n",
            "lida 0.0.10 requires python-multipart, which is not installed.\n",
            "lida 0.0.10 requires uvicorn, which is not installed.\n",
            "tensorflow 2.15.0 requires numpy<2.0.0,>=1.23.5, but you have numpy 1.23.0 which is incompatible.\u001b[0m\u001b[31m\n",
            "\u001b[0mSuccessfully installed numpy-1.23.0\n"
          ]
        },
        {
          "output_type": "display_data",
          "data": {
            "application/vnd.colab-display-data+json": {
              "pip_warning": {
                "packages": [
                  "numpy"
                ]
              }
            }
          },
          "metadata": {}
        }
      ],
      "source": [
        "!pip install qutip\n",
        "!pip install qiskit --quiet\n",
        "!pip install git+https://github.com/oseledets/ttpy.git --quiet\n",
        "!sed --i -e 's/np.object/object/g' /usr/local/lib/python3.10/dist-packages/tt/multifuncrs.py\n",
        "!sed --i -e 's/np.object/object/g' /usr/local/lib/python3.10/dist-packages/tt/multifuncrs2.py\n",
        "!sed --i -e 's/np.complex/complex/g' /usr/local/lib/python3.10/dist-packages/tt/core/vector.py\n",
        "!sed --i -e 's/np.complex/complex/g' /usr/local/lib/python3.10/dist-packages/tt/core/matrix.py\n",
        "!sed --i -e 's/np.float/float/g' /usr/local/lib/python3.10/dist-packages/tt/core/vector.py\n",
        "!sed --i -e 's/np.int/int/g' /usr/local/lib/python3.10/dist-packages/tt/optimize/tt_min.py\n",
        "!pip install strawberryfields\n",
        "!pip install pylatexenc --quiet\n",
        "!pip install --upgrade numpy==1.23"
      ]
    },
    {
      "cell_type": "markdown",
      "metadata": {
        "id": "xpnypRUM6_j0"
      },
      "source": [
        "## **Quantum dynamics simulations with qutip, soft and qiskit**"
      ]
    },
    {
      "cell_type": "markdown",
      "metadata": {
        "id": "ot7Hl5w_9y21"
      },
      "source": [
        "### **Qutip simulation: harmonic oscillator**"
      ]
    },
    {
      "cell_type": "markdown",
      "source": [
        "#### Install qutip"
      ],
      "metadata": {
        "id": "KoD2_oI2AD1v"
      }
    },
    {
      "cell_type": "code",
      "execution_count": null,
      "metadata": {
        "id": "H0h93z9iZn6J",
        "colab": {
          "base_uri": "https://localhost:8080/"
        },
        "outputId": "b5c318f8-9ad6-4084-dbef-8e4ce7d27cfa"
      },
      "outputs": [
        {
          "output_type": "stream",
          "name": "stderr",
          "text": [
            "/usr/local/lib/python3.10/dist-packages/qutip/__init__.py:65: UserWarning: The new version of Cython, (>= 3.0.0) is not supported.\n",
            "  warnings.warn(\n"
          ]
        }
      ],
      "source": [
        "import qutip as qt\n",
        "from qutip import *\n",
        "import matplotlib.pyplot as plt\n",
        "\n",
        "%matplotlib inline\n",
        "from IPython.display import Image\n",
        "\n",
        "from pylab import *\n",
        "import matplotlib as mpl\n",
        "import matplotlib.animation as animation\n",
        "from matplotlib.animation import FuncAnimation\n",
        "from mpl_toolkits.mplot3d import Axes3D\n",
        "\n",
        "import imageio\n",
        "import matplotlib.image as mpimg\n",
        "\n",
        "import matplotlib.pyplot as plt\n",
        "from matplotlib import cm, animation\n",
        "from mpl_toolkits.mplot3d import Axes3D\n",
        "from base64 import b64encode\n",
        "from IPython.display import HTML\n",
        "\n",
        "import matplotlib_inline.backend_inline\n",
        "matplotlib_inline.backend_inline.set_matplotlib_formats('retina')\n",
        "plt.rcParams['savefig.dpi'] = 300\n",
        "plt.rcParams['figure.dpi'] = 100\n",
        "\n",
        "import numpy as np\n",
        "import qutip as qt\n",
        "from qutip import about, basis, destroy, mesolve, ptrace, qeye, tensor, wigner, Qobj"
      ]
    },
    {
      "cell_type": "markdown",
      "metadata": {
        "id": "KMBsxc4kjnio"
      },
      "source": [
        "#### Propagation in the Fock representation"
      ]
    },
    {
      "cell_type": "code",
      "execution_count": null,
      "metadata": {
        "id": "ATpFiktejkT_"
      },
      "outputs": [],
      "source": [
        "xo = 0.75\n",
        "po = 1.75\n",
        "xmin = -5.0\n",
        "xmax = 5.0\n",
        "N = 64                                                          # Define # of states to include in basis\n",
        "a = qt.destroy(N)                                               # Define annihilation operator\n",
        "n = qt.num(N)                                                   # Define number operator\n",
        "#x = (a + a.dag())/np.sqrt(2.0)                                  # position operator in terms of creation and annihilation operators\n",
        "#p = -1.j * (a - a.dag())/np.sqrt(2.0)                           # momentum operator in terms of creation and annihilation operators\n",
        "m = 1                                                           # mass = 1.0\n",
        "hbar = 1                                                        # hbar = 1.0\n",
        "psi0 = qt.coherent(N, alpha=(xo+(po*1j))/np.sqrt(2))            # Define a coherent state with amplitude alpha\n",
        "# psi1 = qt.coherent(N, alpha=-(xo+(po*1j))/np.sqrt(2))           # Define a coherent state with amplitude -alpha\n",
        "# psi0 = psi0 + psi1\n",
        "# psi0.unit(inplace=True)\n",
        "omga = 1.0                                                      # omega = 1.0\n",
        "H_ho = hbar*omga*(a.dag()*a + 1./2.)                            # Harmonic Oscillator Hamiltonian\n",
        "tlist = np.linspace(0, 20, 1000)   # Define the list of times for which we calculate dynamics.\n",
        "result = qt.mesolve(H_ho, psi0, tlist, [], [], progress_bar=True)"
      ]
    },
    {
      "cell_type": "markdown",
      "source": [
        "##### Inverse WT"
      ],
      "metadata": {
        "id": "7ZR6HtIf_qES"
      }
    },
    {
      "cell_type": "markdown",
      "metadata": {
        "id": "-lp6_Fsbky75"
      },
      "source": [
        "\n",
        "\n",
        "Given the state $$\\psi(x) = \\left(\\frac{\\alpha}{\\pi}\\right)^{1/4}e^{-\\frac{\\alpha}{2}(x-x_0)^2+i p_0 x+i \\phi_0},$$\n",
        "with $\\phi_0$ the phase of $\\psi(x)=R(x)e^{i \\phi(x)}$ at $x=0$,  we obtain the analytic expression of the Wigner transform, as follows:\n",
        "\\begin{equation}\n",
        "W(x,p) = \\frac{1}{2 \\pi} \\int_{-\\infty}^{\\infty} ds e^{i s p} \\psi^*(x+\\frac{s}{2}) \\psi(x-\\frac{s}{2}),\\\\\n",
        "= \\frac{1}{2 \\pi} \\left(\\frac{\\alpha}{\\pi}\\right)^{1/2} \\int_{-\\infty}^{\\infty} ds e^{i s (p-p_0)} e^{-\\frac{\\alpha}{4}s^2}e^{-\\alpha (x-x_0)^2},\\\\\n",
        "=\\frac{1}{\\pi} e^{-\\alpha (x-x_0)^2} e^{- \\frac{1}{\\alpha}(p-p_0)^2}.\n",
        "\\end{equation}\n",
        "\n",
        "Note that the same Wigner transform is obtained regardless of the value of $\\phi_0$.\n",
        "\n",
        "Next, wWe show that the wavefunction can be obtained from the Wigner transform, as follows:\n",
        "\\begin{equation}\n",
        "\\psi(x) = \\frac{1}{\\psi(0)e^{-i 2 \\phi_0}}\\int_{-\\infty}^\\infty dp e^{i p x} W(\\frac{x}{2},p),\n",
        "\\end{equation}\n",
        "since\n",
        "\\begin{equation}\n",
        "\\psi(x) = \\frac{\\pi^{-1} e^{i p_0 x} e^{-\\alpha (\\frac{x}{2}-x_0)^2}}{\\psi(0)e^{-i 2 \\phi_0}}\\int_{-\\infty}^\\infty dp e^{i (p-p_0) x} e^{- \\frac{1}{\\alpha}(p-p_0)^2},\\\\\n",
        "= \\frac{\\pi^{-1}e^{i p_0 x}e^{-\\alpha (\\frac{x}{2}-x_0)^2}}{\\psi(0)e^{-i 2 \\phi_0}} e^{-\\alpha \\frac{x^2}{4}} \\sqrt{\\pi \\alpha},\\\\\n",
        "= \\frac{\\pi^{-1}e^{i p_0 x}e^{-\\alpha (\\frac{x}{2}-x_0)^2}}{\\left(\\frac{\\alpha}{\\pi}\\right)^{1/4}e^{-\\frac{\\alpha}{2}x_0^2-i \\phi_0}} e^{-\\alpha \\frac{x^2}{4}} \\sqrt{\\pi \\alpha},\\\\\n",
        "= \\left(\\frac{\\alpha}{\\pi}\\right)^{1/4} e^{i p_0 x+i \\phi_0}e^{-\\alpha (\\frac{x}{2}-x_0)^2+\\frac{\\alpha}{2}x_0^2}e^{-\\alpha \\frac{x^2}{4}},\\\\\n",
        "= \\left(\\frac{\\alpha}{\\pi}\\right)^{1/4} e^{i p_0 x+i \\phi_0}e^{-\\frac{\\alpha}{2} (x^2+x_0^2-2 x_0 x)}.\\\\\n",
        "\\end{equation}\n",
        "Therefore, it is clear that\n",
        "\\begin{equation}\n",
        "\\psi(x) e^{-i \\phi_0} = \\vert \\psi(x)\\vert  e^{i (\\phi(x) - \\phi_0)} = \\frac{1}{\\vert \\psi(0) \\vert}\\int_{-\\infty}^\\infty dp e^{i p x} W(\\frac{x}{2},p),\n",
        "\\end{equation}\n",
        "with $\\vert \\psi(0) \\vert^2 =  \\int dx \\vert \\int_{-\\infty}^\\infty dp e^{i p x} W(\\frac{x}{2},p)\\vert^2$, since $\\psi(x)$ is normalized.\n",
        "\n",
        "In addtion, we can obtain the density, as follows:\n",
        "\\begin{equation}\n",
        "\\rho(x) = \\int_{-\\infty}^\\infty dp W(x,p),\\\\\n",
        "= \\frac{1}{\\pi} \\sqrt{\\pi \\alpha} e^{-\\alpha (x-x_0)^2}\n",
        "\\end{equation}"
      ]
    },
    {
      "cell_type": "code",
      "execution_count": null,
      "metadata": {
        "id": "5cWxdEOlCqCM"
      },
      "outputs": [],
      "source": [
        "dp = 2.0*np.pi/(xmax-xmin)*0.5\n",
        "pv=np.arange(-N/2,N/2)*dp\n",
        "dx=(xmax-xmin)/N\n",
        "xvec=np.arange(-N/2,N/2)*dx"
      ]
    },
    {
      "cell_type": "code",
      "execution_count": null,
      "metadata": {
        "id": "xkLYZrA7eVUg"
      },
      "outputs": [],
      "source": [
        "# Conversion from Fock to coord representation by numerical inverse Wigner transform\n",
        "def psirv(n):\n",
        "  wt=wigner(result.states[n],xvec/2,pv)\n",
        "  out=np.zeros(np.size(xvec),dtype=complex)\n",
        "  for k in range(np.size(xvec)):\n",
        "    out[k]=np.sum(dp*np.exp(1j*pv[:]*xvec[k])*wt[:,k])\n",
        "  fo=np.sqrt(norm(out)**2*dx)\n",
        "  return out/fo"
      ]
    },
    {
      "cell_type": "markdown",
      "metadata": {
        "id": "ggNDwJW1QMZK"
      },
      "source": [
        "###### Plot of $\\psi(x)$"
      ]
    },
    {
      "cell_type": "code",
      "execution_count": null,
      "metadata": {
        "id": "BUBDpI2YGwSF"
      },
      "outputs": [],
      "source": [
        "plot(xvec,np.real(psirv(0)),'-o')\n",
        "ref=np.exp(-(xvec-xo)**2/2+1j*po*xvec)/(np.pi)**0.25\n",
        "plot(xvec,np.real(ref),'-')"
      ]
    },
    {
      "cell_type": "markdown",
      "metadata": {
        "id": "UOhRY8bnBKPQ"
      },
      "source": [
        "### **Simulation of harmonic oscillator: qutip vs SOFT and matrix vector multiplication**"
      ]
    },
    {
      "cell_type": "code",
      "execution_count": null,
      "metadata": {
        "id": "_JPct9ejXIxX"
      },
      "outputs": [],
      "source": [
        "# soft propagation\n",
        "def soft(f,UV,UK):\n",
        "  out=UV*f\n",
        "  out=UK*np.fft.fft(out)\n",
        "  out=UV*np.fft.ifft(out)\n",
        "  return out"
      ]
    },
    {
      "cell_type": "code",
      "execution_count": null,
      "metadata": {
        "id": "foAfPXnPU3R4"
      },
      "outputs": [],
      "source": [
        "# Define grids\n",
        "#N=128\n",
        "#xmin = -7.0\n",
        "#xmax = 7.0\n",
        "#xvec=np.zeros(N,dtype=float)\n",
        "#dx=(xmax-xmin)/N\n",
        "#xvec=np.arange(-N/2,N/2)*dx\n",
        "dp = 2.0*np.pi/(xmax-xmin)\n",
        "pv=np.zeros(N,dtype=float)\n",
        "\n",
        "for i in range(N):\n",
        "  pv[i]=dp*(i-N/2)\n",
        "pv=np.fft.fftshift(pv)"
      ]
    },
    {
      "cell_type": "code",
      "execution_count": null,
      "metadata": {
        "id": "x8xG2-uaM99Y"
      },
      "outputs": [],
      "source": [
        "# Converstion of Fock state to coord representation by inverse Wigner transform\n",
        "def F2C(fockstate):\n",
        "  wt=wigner(fockstate,xvec/2,pv)\n",
        "  out=np.zeros(np.size(xvec),dtype=complex)\n",
        "  for k in range(np.size(xvec)):\n",
        "    for j in range(np.size(pv)):\n",
        "      out[k]+=dp*np.exp(1j*pv[j]*xvec[k])*wt[j,k]\n",
        "  fo=np.sqrt(norm(out)**2*dx)\n",
        "  return out/fo"
      ]
    },
    {
      "cell_type": "code",
      "execution_count": null,
      "metadata": {
        "id": "jKNn9Gyp340w"
      },
      "outputs": [],
      "source": [
        "import scipy.linalg as la\n",
        "from tqdm.notebook import trange # progress bar"
      ]
    },
    {
      "cell_type": "markdown",
      "source": [
        "#### Hamiltonian and propagators"
      ],
      "metadata": {
        "id": "S7H_vpXwyxjS"
      }
    },
    {
      "cell_type": "code",
      "execution_count": null,
      "metadata": {
        "id": "5l7NEr8uRT4v"
      },
      "outputs": [],
      "source": [
        "mass=1\n",
        "# Integration time step\n",
        "tau=tlist[1]-tlist[0]\n",
        "EYE=1j\n",
        "\n",
        "# Potential and kinetic energy Fock representation\n",
        "Hm = hbar*omga*(a.dag()*a + 1./2.)\n",
        "Hm=Hm.full()\n",
        "\n",
        "# Propagator for Fock representation\n",
        "Um=la.expm(-EYE*Hm*tau)\n",
        "\n",
        "# Potential and kinetic energy Coord representation\n",
        "VV=0.5*xvec**2\n",
        "KE=pv**2/2/mass\n",
        "\n",
        "# Trotter propagators in coord representation\n",
        "UVx=np.exp(-EYE*VV*tau/2)\n",
        "UKx=np.exp(-EYE*KE*tau)\n",
        "\n",
        "# Initial State Coord representation\n",
        "psi_c_init = psirv(0)\n",
        "#psi_c_init = exp(-(xvec-(-1.))**2/2)/(np.pi)**0.25\n",
        "psi_c=psi_c_init\n",
        "\n",
        "# Initial State Fock representation\n",
        "psi_c_initf = result.states[0]\n",
        "psi_cf = psi_c_initf\n",
        "psi_cf = psi_cf.full()\n",
        "psi_cf = psi_cf.flatten()"
      ]
    },
    {
      "cell_type": "markdown",
      "source": [
        "####Propagation"
      ],
      "metadata": {
        "id": "hW_ALfI_zXoF"
      }
    },
    {
      "cell_type": "code",
      "execution_count": null,
      "metadata": {
        "id": "xWkjAydYAk7c"
      },
      "outputs": [],
      "source": [
        "iterations=np.size(tlist)\n",
        "psil=[]\n",
        "psil2=[]\n",
        "# for i in range(iterations-1):\n",
        "n=iterations\n",
        "n=899\n",
        "for i in range(n):\n",
        "  psil.append(psi_c)\n",
        "  psi_c=soft(psi_c,UVx,UKx)\n",
        "  psil2.append(psi_cf)\n",
        "  psi_cf=np.dot(Um,psi_cf)\n",
        "\n",
        "psi_list = np.asarray(psil)\n",
        "psi_list2 = np.asarray(psil2)"
      ]
    },
    {
      "cell_type": "markdown",
      "source": [
        "#### Propagated state"
      ],
      "metadata": {
        "id": "nNqZMW0gyexP"
      }
    },
    {
      "cell_type": "code",
      "execution_count": null,
      "metadata": {
        "id": "Ia058UGBCTbK"
      },
      "outputs": [],
      "source": [
        "plt.figure(figsize=(8, 6))\n",
        "Eo=0.5+0.5*(xo**2+po**2)\n",
        "\n",
        "# Convert from Fock to coordinate representation (Weighted sum of Fock states)\n",
        "pl2=psi_list2[n-1]\n",
        "out=pl2[0]*fock(N,0)\n",
        "for j in range(1,N):\n",
        "  out+=pl2[j]*fock(N,j)\n",
        "pl2 = F2C(out)\n",
        "outq=psirv(n-1)\n",
        "\n",
        "out_soft=psi_list[n-1]\n",
        "Ra = out_soft[int(np.size(xvec)/2)]\n",
        "phi3 = np.arctan2(np.imag(Ra),np.real(Ra))\n",
        "out_soft*=exp(-1j*phi3)\n",
        "\n",
        "# Comparison of qutip and soft\n",
        "plt.rcParams[\"figure.figsize\"] = [12.50, 6.50]\n",
        "plt.plot(xvec,Eo+np.abs(out_soft),'-',label='abs, SOFT_coord')\n",
        "plt.plot(xvec,Eo+np.real(pl2),'-o',label='real, Matvec_Fock')\n",
        "plt.plot(xvec,Eo+np.real(out_soft),'-x',label='real, SOFT_coord')\n",
        "plt.plot(xvec,Eo+np.real(outq),label='real, qutip')\n",
        "plt.plot(xvec,VV,linewidth=3)\n",
        "plt.grid()\n",
        "leg = plt.legend(loc='upper right')\n",
        "plt.ylim(0,3.5)\n",
        "plt.show()"
      ]
    },
    {
      "cell_type": "markdown",
      "source": [
        "#### Eigenstates by Fourier transform"
      ],
      "metadata": {
        "id": "KHzwCHFeyTdW"
      }
    },
    {
      "cell_type": "code",
      "execution_count": null,
      "metadata": {
        "id": "pDpRMJHDWJv8"
      },
      "outputs": [],
      "source": [
        "def compute_eigenstate_QTED(psi_list, tlist, x_list, energy_of_interest, N=N, normalize=False):\n",
        "    '''\n",
        "    This function computes the eigenstate from an array of dynamics.\n",
        "    psi_list: array of wavefunction snapshots with shape: (n_timesteps, n_xvals)\n",
        "    tlist:  array of times that the snapshots correspond to\n",
        "    x_list : x-grid used for computation (array)\n",
        "    energy_of_interest: the energy associated with the eigenstate of interest\n",
        "                        (ex: ground-state H.O. would be 0.5)\n",
        "    '''\n",
        "    from tqdm.notebook import trange\n",
        "    d_t = tlist[1]-tlist[0]\n",
        "    psi_out = np.zeros(len(psi_list[0]), dtype=complex)\n",
        "    dx = x_list[1]-x_list[0]\n",
        "    nts=len(psi_list)\n",
        "    for ii in range(nts):\n",
        "        psi_out += (d_t * np.exp(1j * energy_of_interest * tlist[ii])* psi_list[ii])\n",
        "    return psi_out"
      ]
    },
    {
      "cell_type": "code",
      "execution_count": null,
      "metadata": {
        "id": "rwYUFj35cSaG"
      },
      "outputs": [],
      "source": [
        "# Compute eigenstate at a desired energy:\n",
        "plt.figure(figsize=(12, 4.5))\n",
        "for i in range(8):\n",
        "  psi_out = compute_eigenstate_QTED(psi_list, tlist, xvec, i+0.5)\n",
        "  plt.plot(xvec, i+0.5+np.abs(psi_out)/norm(psi_out),'blue')\n",
        "  plt.plot(xvec,(i+0.5)*(xvec+.1)/(xvec+.1),'black')\n",
        "plt.plot(xvec,xvec*xvec*0.5)\n",
        "plt.ylim(0,8)\n",
        "plt.grid()"
      ]
    },
    {
      "cell_type": "markdown",
      "metadata": {
        "id": "1BBSyFttkjvK"
      },
      "source": [
        "#### Visualization"
      ]
    },
    {
      "cell_type": "code",
      "execution_count": null,
      "metadata": {
        "id": "wdds3HwkFKkE"
      },
      "outputs": [],
      "source": [
        "xvec = np.linspace(xmin, xmax, N)\n",
        "X, Y = np.meshgrid(xvec, xvec)"
      ]
    },
    {
      "cell_type": "code",
      "execution_count": null,
      "metadata": {
        "id": "tUt5DbdL7RxC"
      },
      "outputs": [],
      "source": [
        "cb = None\n",
        "\n",
        "def plot_result(result, n, fig=None, axes=None):\n",
        "    global cb\n",
        "    xmin = -5\n",
        "    xmax = 5\n",
        "    axes.cla()\n",
        "\n",
        "    W = wigner(result.states[n], xvec, xvec)\n",
        "\n",
        "    surf = axes.plot_surface(X, Y, W, rstride=1, cstride=1, cmap=cm.jet,\n",
        "                              alpha=0.75, linewidth=0.05, vmax=0.25, vmin=-0.25)\n",
        "    axes.contour(X, Y, W, 10, cmap=\"RdYlGn\", linestyles=\"solid\", offset=-0.17)\n",
        "    axes.set_xlim3d(xmin, xmax)\n",
        "    axes.set_ylim3d(xmin, xmax)\n",
        "    axes.set_zlim3d(-0.25, 0.25)\n",
        "    if not cb:\n",
        "        cb = plt.colorbar(surf, shrink=0.65, aspect=20)\n",
        "    return axes.artists\n",
        "\n",
        "\n",
        "def update(n):\n",
        "    return plot_result(result, n, fig=fig, axes=ax)"
      ]
    },
    {
      "cell_type": "code",
      "execution_count": null,
      "metadata": {
        "id": "uNU_1Fki7ZNw"
      },
      "outputs": [],
      "source": [
        "name = 'Test-Surface-Animation'\n",
        "# Set-up the figure\n",
        "fig = plt.figure(figsize=(8, 4), dpi=100)\n",
        "# Create 3D axes, add to figure\n",
        "ax = Axes3D(fig, azim=-107, elev=29)\n",
        "fig.add_axes(ax, projection='3D')\n",
        "# Create animation object and run routine to save to a .mp4 file\n",
        "anim = animation.FuncAnimation(fig, update, frames=len(result.times), blit=True)\n",
        "anim.save(name + '.mp4', fps=10, writer=\"ffmpeg\", codec=None)\n",
        "plt.close(fig)"
      ]
    },
    {
      "cell_type": "code",
      "execution_count": null,
      "metadata": {
        "id": "OAMgumYM7fad"
      },
      "outputs": [],
      "source": [
        "# Open Video and display in notebook by converting to HTML with base64\n",
        "video = open(name + '.mp4', \"rb\").read()\n",
        "video_encoded = b64encode(video).decode(\"ascii\")\n",
        "video_tag = '<video controls src=\"data:video/x-m4v;base64,{0}\" height=720px>'.format(video_encoded) # Set the height to rescale the output.\n",
        "HTML(video_tag)"
      ]
    },
    {
      "cell_type": "markdown",
      "metadata": {
        "id": "vPiizVKMPus3"
      },
      "source": [
        "###### Plot of $\\rho(p)$"
      ]
    },
    {
      "cell_type": "code",
      "execution_count": null,
      "metadata": {
        "id": "p220NAoGPAr_"
      },
      "outputs": [],
      "source": [
        "out=dx*np.sum(wigner(result.states[0],xvec,pv),axis=1)\n",
        "plot(pv,out)\n",
        "plot(pv,exp(-(pv-po)**2)/np.sqrt(np.pi),'-o')"
      ]
    },
    {
      "cell_type": "markdown",
      "metadata": {
        "id": "aasX-rbTjs12"
      },
      "source": [
        "### **Simulation of Kerr-cat oscillator: qutip, qiskit, strawberryfields**"
      ]
    },
    {
      "cell_type": "markdown",
      "source": [
        "##### Hamiltonian and propagation"
      ],
      "metadata": {
        "id": "TNf9RznF1tFg"
      }
    },
    {
      "cell_type": "code",
      "execution_count": null,
      "metadata": {
        "id": "8nbUDgGHZpeU",
        "colab": {
          "base_uri": "https://localhost:8080/"
        },
        "outputId": "8ef0ad30-93e3-4c26-ab5d-74860a62b712"
      },
      "outputs": [
        {
          "output_type": "stream",
          "name": "stdout",
          "text": [
            "10.0%. Run time:   0.01s. Est. time left: 00:00:00:00\n",
            "20.0%. Run time:   0.01s. Est. time left: 00:00:00:00\n",
            "30.0%. Run time:   0.01s. Est. time left: 00:00:00:00\n",
            "40.0%. Run time:   0.02s. Est. time left: 00:00:00:00\n",
            "50.0%. Run time:   0.03s. Est. time left: 00:00:00:00\n",
            "60.0%. Run time:   0.03s. Est. time left: 00:00:00:00\n",
            "70.0%. Run time:   0.04s. Est. time left: 00:00:00:00\n",
            "80.0%. Run time:   0.04s. Est. time left: 00:00:00:00\n",
            "90.0%. Run time:   0.05s. Est. time left: 00:00:00:00\n",
            "Total run time:   0.05s\n"
          ]
        }
      ],
      "source": [
        "occ=16\n",
        "r=0.05\n",
        "zeta=4\n",
        "#z=-2*zeta*r*1j\n",
        "crea=create(occ)\n",
        "dest=destroy(occ)\n",
        "\n",
        "numoc=crea*dest\n",
        "ham=numoc*(numoc-qutip.qeye(occ))-zeta*(crea**2+dest**2)\n",
        "ham=ham*r\n",
        "\n",
        "#k=5\n",
        "psi0=fock(occ)\n",
        "#H_ho = hbar*omga*(a.dag()*a + 1./2.)                            # Harmonic Oscillator Hamiltonian\n",
        "tlist = np.linspace(0, 10, 200)   # Define the list of times for which we calculate dynamics.\n",
        "result2 = qt.mesolve(ham, psi0, tlist, [], [], progress_bar=True)"
      ]
    },
    {
      "cell_type": "markdown",
      "source": [
        "##### Obtain $\\psi(x)$ from inverse Wigner transform"
      ],
      "metadata": {
        "id": "jjQKYkCu1YBf"
      }
    },
    {
      "cell_type": "code",
      "execution_count": null,
      "metadata": {
        "id": "NbvrovJt0oL9"
      },
      "outputs": [],
      "source": [
        "# Numerical inverse Wigner transform\n",
        "def psirv2(n):\n",
        "  wt=wigner(result2.states[n],xvec/2,pv)\n",
        "  out=np.zeros(np.size(xvec),dtype=complex)\n",
        "  for k in range(np.size(xvec)):\n",
        "    for j in range(np.size(pv)):\n",
        "      out[k]+=dp*np.exp(1j*pv[j]*xvec[k])*wt[j,k]\n",
        "  fo=np.sqrt(norm(out)**2*dx)\n",
        "  return out/fo\n",
        "plot(xvec,np.real(psirv2(150)),'-o')\n",
        "ref=np.exp(-(xvec-xo*0)**2/2+1j*0*po*xvec)/(np.pi)**0.25\n",
        "plot(xvec,np.real(ref),'-')"
      ]
    },
    {
      "cell_type": "markdown",
      "metadata": {
        "id": "6WfLwgTNPmXG"
      },
      "source": [
        "##### Plot of $\\rho(x)$"
      ]
    },
    {
      "cell_type": "code",
      "execution_count": null,
      "metadata": {
        "id": "-K1iMoK-crU4"
      },
      "outputs": [],
      "source": [
        "out=dp*np.sum(wigner(result.states[0],xvec,pv),axis=0)\n",
        "plot(xvec,out)\n",
        "plot(xvec,exp(-(xvec-xo)**2)/np.sqrt(np.pi),'-o')"
      ]
    },
    {
      "cell_type": "markdown",
      "metadata": {
        "id": "_Zr-6g5YkqD6"
      },
      "source": [
        "##### Movie of Wigner function"
      ]
    },
    {
      "cell_type": "code",
      "execution_count": null,
      "metadata": {
        "id": "OVUmI5kSmHH-"
      },
      "outputs": [],
      "source": [
        "cb = None\n",
        "\n",
        "def plot_result(res, n, fig=None, axes=None):\n",
        "    global cb\n",
        "    xmin = -5\n",
        "    xmax = 5\n",
        "    axes.cla()\n",
        "\n",
        "    W = wigner(res.states[n], xvec, xvec)\n",
        "    surf = axes.plot_surface(X, Y, W, rstride=1, cstride=1, cmap=cm.jet,\n",
        "                              alpha=0.75, linewidth=0.05, vmax=0.25, vmin=-0.25)\n",
        "    axes.contour(X, Y, W, 10, cmap=\"RdYlGn\", linestyles=\"solid\", offset=-0.17)\n",
        "    axes.set_xlim3d(xmin, xmax)\n",
        "    axes.set_ylim3d(xmin, xmax)\n",
        "    axes.set_zlim3d(-0.25, 0.25)\n",
        "    if not cb:\n",
        "        cb = plt.colorbar(surf, shrink=0.65, aspect=20)\n",
        "    return axes.artists\n",
        "\n",
        "\n",
        "def update(n):\n",
        "#    global result2\n",
        "    return plot_result(result2, n, fig=fig, axes=ax)"
      ]
    },
    {
      "cell_type": "code",
      "execution_count": null,
      "metadata": {
        "id": "9bKAn-FFfq65"
      },
      "outputs": [],
      "source": [
        "name = 'Test-Surface-Animation'\n",
        "# Set-up the figure\n",
        "fig = plt.figure(figsize=(8, 4), dpi=100)\n",
        "# Create 3D axes, add to figure\n",
        "ax = Axes3D(fig, azim=-107, elev=29)\n",
        "fig.add_axes(ax, projection='3D')\n",
        "# Create animation object and run routine to save to a .mp4 file\n",
        "anim = animation.FuncAnimation(fig, update, frames=len(result2.times), blit=True)\n",
        "anim.save(name + '.mp4', fps=10, writer=\"ffmpeg\", codec=None)\n",
        "plt.close(fig)"
      ]
    },
    {
      "cell_type": "code",
      "execution_count": null,
      "metadata": {
        "id": "al1PvGhuhGnI"
      },
      "outputs": [],
      "source": [
        "# Open Video and display in notebook by converting to HTML with base64\n",
        "video = open(name + '.mp4', \"rb\").read()\n",
        "video_encoded = b64encode(video).decode(\"ascii\")\n",
        "video_tag = '<video controls src=\"data:video/x-m4v;base64,{0}\" height=720px>'.format(video_encoded) # Set the height to rescale the output.\n",
        "HTML(video_tag)"
      ]
    },
    {
      "cell_type": "markdown",
      "metadata": {
        "id": "a2B5xY7_X2uo"
      },
      "source": [
        "\n",
        "\n",
        "#### **Simulation with qiskit (CV simulated with qubits, quantics Fock basis)**"
      ]
    },
    {
      "cell_type": "markdown",
      "metadata": {
        "id": "neJ5lWDAUYzx"
      },
      "source": [
        "Given the Hamiltonian matrix in the Fock basis, generated with qutip, convert it into a DV circuit and exponentiate it to build the propagator"
      ]
    },
    {
      "cell_type": "markdown",
      "source": [
        "####Import qiskit"
      ],
      "metadata": {
        "id": "wLe2H-SAuIrl"
      }
    },
    {
      "cell_type": "code",
      "execution_count": null,
      "metadata": {
        "id": "GRu0_NMOboex"
      },
      "outputs": [],
      "source": [
        "from qiskit import *\n",
        "import numpy as np\n",
        "from matplotlib import pyplot as plt\n",
        "from qiskit.visualization import plot_histogram\n",
        "from qiskit.circuit.library import QFT\n",
        "import pylatexenc\n",
        "\n",
        "from qiskit.visualization import plot_state_city, plot_bloch_multivector\n",
        "from qiskit.visualization import plot_state_paulivec, plot_state_hinton\n",
        "from qiskit.visualization import plot_state_qsphere\n",
        "from qiskit.quantum_info.operators import Operator\n",
        "from qiskit import QuantumCircuit, QuantumRegister\n",
        "#import prepare_MPS as mps\n",
        "from qiskit import BasicAer, execute\n",
        "import matplotlib\n",
        "from matplotlib import axes\n",
        "import itertools\n",
        "import scipy.linalg as spLA\n",
        "import matplotlib.pyplot as plt\n",
        "from tqdm.notebook import trange\n",
        "np.set_printoptions(linewidth=110)\n",
        "\n",
        "from qiskit import QuantumCircuit, ClassicalRegister, QuantumRegister\n",
        "from qiskit import BasicAer, execute\n",
        "from qiskit.compiler import transpile\n",
        "from qiskit.opflow import X, Y, Z, I, One, Zero, PauliOp, PauliSumOp, Suzuki\n",
        "from qiskit.opflow.evolutions import PauliTrotterEvolution\n",
        "from qiskit.quantum_info.operators import Operator, Pauli\n",
        "from qiskit.quantum_info import process_fidelity\n",
        "from qiskit.extensions import RXGate, XGate, CXGate\n",
        "from qiskit.circuit import Parameter"
      ]
    },
    {
      "cell_type": "markdown",
      "source": [
        "#### Brandon's utility functions to convert unitary matrix into sum of products of Pauli matrices"
      ],
      "metadata": {
        "id": "K1dE74Cfqydg"
      }
    },
    {
      "cell_type": "code",
      "execution_count": null,
      "metadata": {
        "id": "VQWYecsnZMHg"
      },
      "outputs": [],
      "source": [
        "def vec_query(arr, my_dict):\n",
        "    '''\n",
        "    This function vectorizes dictionary querying, allowing us to query `my_dict` with a np.array `arr` of keys.\n",
        "    '''\n",
        "\n",
        "    return np.vectorize(my_dict.__getitem__, otypes=[tuple])(arr)\n",
        "\n",
        "def nested_kronecker_product(a):\n",
        "    '''\n",
        "    Handles Kronecker Products for list (i.e.,  a = [Z, Z, Z] will evaluate Z ⊗ Z ⊗ Z)\n",
        "    '''\n",
        "    if len(a) == 2:\n",
        "            return np.kron(a[0],a[1])\n",
        "    else:\n",
        "        return np.kron(a[0], nested_kronecker_product(a[1:]))\n",
        "\n",
        "def Hilbert_Schmidt(mat1, mat2):\n",
        "    # |ψ1> and |ψ2>: <ψ1*|ψ2> for <ψ1|*\n",
        "    return np.trace(mat1@ mat2)\n",
        "\n",
        "def decompose(H, verbose=False):\n",
        "    #define the four Pauli-matrices in a dictionary:\n",
        "    pms = { 'I': np.array([[1, 0], [0, 1]], dtype=complex),\n",
        "             'X': np.array([[0, 1], [1, 0]], dtype=complex),\n",
        "             'Y': np.array([[0, -1j], [1j, 0]], dtype=complex),\n",
        "            'Z': np.array([[1, 0], [0, -1]], dtype=complex)}\n",
        "    if verbose:\n",
        "        print('Terms of the Operator:\\n')\n",
        "    pauli_keys = list(pms.keys()) # Grab Matrix Names for printing\n",
        "    nqb = int(np.log2(H.shape[0])) # Get the number of qubits needed for our pauli strings\n",
        "    output_string = ''\n",
        "    sigma_combinations = list(itertools.product(pauli_keys, repeat=nqb))    # Gives all possible combinations of nqb Pa\n",
        "\n",
        "    for ii in trange(len(sigma_combinations)):\n",
        "        name = sigma_combinations[ii][0]\n",
        "        for ll in range(1, len(sigma_combinations[ii])):\n",
        "            name = name + '⊗' + sigma_combinations[ii][ll]\n",
        "        alt_name = ''.join(sigma_combinations[ii]) # For tequila compatibility\n",
        "        a_ij = (1/(2**nqb)) * Hilbert_Schmidt(nested_kronecker_product(vec_query(np.array(sigma_combinations[ii]), pms)), H)\n",
        "        # If the Hilbert-Schmidt Product doesn't reduce to 0\n",
        "        if a_ij != 0.0:\n",
        "            if abs(a_ij) < 1e-10:\n",
        "                pass\n",
        "            else:\n",
        "                if verbose:\n",
        "                    print(np.round(a_ij.real, 6),'', name)\n",
        "                output_string += str(np.round(a_ij.real, 6))+'*'+alt_name\n",
        "                output_string += '+'\n",
        "    return output_string[:-1] # To ignore that extra plus sign\n",
        "\n",
        "\n",
        "def build_pauli_dict(decomposed_operator):\n",
        "    single_terms = decomposed_operator.split('+')\n",
        "    pauli_dict_out = {}\n",
        "    for term in single_terms:\n",
        "        coeff, pauli_str = term.split('*')\n",
        "        pauli_dict_out[pauli_str] = float(coeff)\n",
        "    return pauli_dict_out\n",
        "\n",
        "\n",
        "def pauli_strings_2_pauli_sum(operator):\n",
        "    tmp_pauli_dict = build_pauli_dict(operator)\n",
        "    # Convert the dict to a list of tuples of the form [('Pauli String', float_coeff), ...]\n",
        "    tmp_pauli_list = list(zip(tmp_pauli_dict.keys(), tmp_pauli_dict.values()))\n",
        "    # Construct a qiskit PauliSumOp from this list\n",
        "    tmp_pauli_sum = PauliSumOp.from_list(tmp_pauli_list)\n",
        "    return tmp_pauli_sum"
      ]
    },
    {
      "cell_type": "code",
      "execution_count": null,
      "metadata": {
        "id": "0wfbZSmuZiVX",
        "colab": {
          "base_uri": "https://localhost:8080/",
          "height": 138,
          "referenced_widgets": [
            "35b3fa0d83264da79d4c96eae498ba53",
            "3bf38661f399407d89898be072623d6e",
            "1ac2d152bc1f43fb91d3ce18378d54bc",
            "c14af94f7f8c41a5b857aaea44ecc2c3",
            "34ff07834ebc4443b3e110bfb9b73c4d",
            "24b9a2d360864eafadeeb618fa6b45d0",
            "3efcafcfbf324741a72af82351a746a9",
            "d60bd5bb834b40149a0308c46297529d",
            "c585487bad144f58a79068f3bcdbdda4",
            "3e0564a9e58344fa9ea3a6d12b0a22c9",
            "46f6c01c9dd445c9b9c5119e74d29f02"
          ]
        },
        "outputId": "4d84c821-8511-472f-a7c5-bd0f00b0532f"
      },
      "outputs": [
        {
          "output_type": "display_data",
          "data": {
            "text/plain": [
              "  0%|          | 0/256 [00:00<?, ?it/s]"
            ],
            "application/vnd.jupyter.widget-view+json": {
              "version_major": 2,
              "version_minor": 0,
              "model_id": "35b3fa0d83264da79d4c96eae498ba53"
            }
          },
          "metadata": {}
        },
        {
          "output_type": "stream",
          "name": "stderr",
          "text": [
            "<ipython-input-11-14d28420c87f>:5: DeprecationWarning: The class ``qiskit.opflow.evolutions.trotterizations.suzuki.Suzuki`` is deprecated as of qiskit-terra 0.24.0. It will be removed no earlier than 3 months after the release date. For code migration guidelines, visit https://qisk.it/opflow_migration.\n",
            "  tU_h = PauliTrotterEvolution(trotter_mode=Suzuki(order=2, reps=1)).convert(U_h)\n",
            "<ipython-input-11-14d28420c87f>:5: DeprecationWarning: The class ``qiskit.opflow.evolutions.pauli_trotter_evolution.PauliTrotterEvolution`` is deprecated as of qiskit-terra 0.24.0. It will be removed no earlier than 3 months after the release date. For code migration guidelines, visit https://qisk.it/opflow_migration.\n",
            "  tU_h = PauliTrotterEvolution(trotter_mode=Suzuki(order=2, reps=1)).convert(U_h)\n"
          ]
        }
      ],
      "source": [
        "decomposed_xmd = decompose(ham.full(), verbose=False)\n",
        "circ_h = pauli_strings_2_pauli_sum(decomposed_xmd)\n",
        "time_step = Parameter('t')\n",
        "U_h = (time_step*circ_h).exp_i()\n",
        "tU_h = PauliTrotterEvolution(trotter_mode=Suzuki(order=2, reps=1)).convert(U_h)"
      ]
    },
    {
      "cell_type": "markdown",
      "source": [
        "#### Circuit parameters"
      ],
      "metadata": {
        "id": "wx49zafMst8e"
      }
    },
    {
      "cell_type": "code",
      "execution_count": null,
      "metadata": {
        "id": "A4nfcDU-6fhC"
      },
      "outputs": [],
      "source": [
        "xmin = -7.0\n",
        "xmax = 7.0\n",
        "N = 128\n",
        "\n",
        "dp = 2.0*np.pi/(xmax-xmin)*0.5\n",
        "pv=np.arange(-N/2,N/2)*dp\n",
        "dx=(xmax-xmin)/N\n",
        "xvec=np.arange(-N/2,N/2)*dx\n",
        "\n",
        "\n",
        "X, Y = np.meshgrid(xvec, xvec)\n",
        "global psin,qc2\n",
        "tlist = np.linspace(0, 10, 200)\n",
        "dt=(tlist[1]-tlist[0])\n",
        "\n",
        "# circuit for one propagation step\n",
        "qc2=tU_h.bind_parameters({time_step: dt})\n",
        "#initial state\n",
        "d=4\n",
        "n=2**d\n",
        "psi0=fock(n)\n",
        "psin=psi0.full()\n",
        "psin=psin.flatten()"
      ]
    },
    {
      "cell_type": "markdown",
      "source": [
        "#### Quantum circuit for time-sliced propagation"
      ],
      "metadata": {
        "id": "VhBiZ_7Gs6lQ"
      }
    },
    {
      "cell_type": "code",
      "execution_count": null,
      "metadata": {
        "id": "LXDkAMM6bFUJ"
      },
      "outputs": [],
      "source": [
        "def qsolve():\n",
        "  global psin,qc2\n",
        "  n=np.size(psin)\n",
        "  d=int(np.log2(np.size(psin)))\n",
        "  # Circuit\n",
        "  qre = QuantumRegister(d)\n",
        "  circ = QuantumCircuit(qre)\n",
        "  circ.initialize(psin,qre)\n",
        "  circ.barrier()\n",
        "  circ.append(qc2, qre)\n",
        "  circ.barrier()\n",
        "  # Execution\n",
        "  psin = execute(circ, backend=BasicAer.get_backend('statevector_simulator')).result()\n",
        "  psin = psin.get_statevector()\n",
        "  # Weighted sum of Fock states\n",
        "  out=psin[0]*fock(n,0)\n",
        "  for j in range(1,n):\n",
        "    out+=psin[j]*fock(n,j)\n",
        "  return out"
      ]
    },
    {
      "cell_type": "markdown",
      "source": [
        "#### Visualization of final state from Wigner function"
      ],
      "metadata": {
        "id": "25nnoaKStHfc"
      }
    },
    {
      "cell_type": "code",
      "execution_count": null,
      "metadata": {
        "id": "cBpAtQq927nf",
        "colab": {
          "base_uri": "https://localhost:8080/",
          "height": 448
        },
        "outputId": "20383d9e-44a1-4ff1-e62f-32887a0cb96a"
      },
      "outputs": [
        {
          "output_type": "execute_result",
          "data": {
            "text/plain": [
              "[<matplotlib.lines.Line2D at 0x7e8c0eed2080>]"
            ]
          },
          "metadata": {},
          "execution_count": 14
        },
        {
          "output_type": "display_data",
          "data": {
            "text/plain": [
              "<Figure size 640x480 with 1 Axes>"
            ],
            "image/png": "[encoded data removed]"
          },
          "metadata": {
            "image/png": {
              "width": 559,
              "height": 414
            }
          }
        }
      ],
      "source": [
        "# Numerical inverse Wigner transform\n",
        "def psirv3(n):\n",
        "  for j in range(n):\n",
        "    pstate=qsolve()\n",
        "  wt=wigner(pstate,xvec/2,pv)\n",
        "  out=np.zeros(np.size(xvec),dtype=complex)\n",
        "  for k in range(np.size(xvec)):\n",
        "    for j in range(np.size(pv)):\n",
        "      out[k]+=dp*np.exp(1j*pv[j]*xvec[k])*wt[j,k]\n",
        "  fo=np.sqrt(norm(out)**2*dx)\n",
        "  return out/fo\n",
        "\n",
        "plot(xvec,np.real(psirv3(150)),'-o')\n",
        "\n",
        "ref=np.exp(-xvec**2/2)/(np.pi)**0.25\n",
        "plot(xvec,np.real(ref),'-')"
      ]
    },
    {
      "cell_type": "markdown",
      "source": [
        "#### Movie of Wigner function"
      ],
      "metadata": {
        "id": "07YuSGjpolRo"
      }
    },
    {
      "cell_type": "code",
      "execution_count": null,
      "metadata": {
        "id": "rxNeBQ0x360w"
      },
      "outputs": [],
      "source": [
        "cb = None\n",
        "\n",
        "def plot_result3(k,fig=None, axes=None):\n",
        "    global cb\n",
        "    xmin = -5\n",
        "    xmax = 5\n",
        "    axes.cla()\n",
        "\n",
        "    W = wigner(qsolve(), xvec, xvec)\n",
        "    surf = axes.plot_surface(X, Y, W, rstride=1, cstride=1, cmap=cm.jet,\n",
        "                              alpha=0.75, linewidth=0.05, vmax=0.25, vmin=-0.25)\n",
        "    axes.contour(X, Y, W, 10, cmap=\"RdYlGn\", linestyles=\"solid\", offset=-0.17)\n",
        "    axes.set_xlim3d(xmin, xmax)\n",
        "    axes.set_ylim3d(xmin, xmax)\n",
        "    axes.set_zlim3d(-0.25, 0.25)\n",
        "    if not cb:\n",
        "        cb = plt.colorbar(surf, shrink=0.65, aspect=20)\n",
        "    return axes.artists\n",
        "\n",
        "def update3(k):\n",
        "    return plot_result3(k,fig=fig, axes=ax)"
      ]
    },
    {
      "cell_type": "code",
      "execution_count": null,
      "metadata": {
        "id": "o7u761ZP4FSc"
      },
      "outputs": [],
      "source": [
        "name = 'Test-Surface-Animation'\n",
        "# Set-up the figure\n",
        "fig = plt.figure(figsize=(8, 4), dpi=100)\n",
        "# Create 3D axes, add to figure\n",
        "ax = Axes3D(fig, azim=-107, elev=29)\n",
        "fig.add_axes(ax, projection='3D')\n",
        "# Create animation object and run routine to save to a .mp4 file\n",
        "anim = animation.FuncAnimation(fig, update3, frames=200, blit=True)\n",
        "anim.save(name + '.mp4', fps=10, writer=\"ffmpeg\", codec=None)\n",
        "plt.close(fig)"
      ]
    },
    {
      "cell_type": "code",
      "execution_count": null,
      "metadata": {
        "id": "aopcEpScP_B-"
      },
      "outputs": [],
      "source": [
        "# Open Video and display in notebook by converting to HTML with base64\n",
        "video = open(name + '.mp4', \"rb\").read()\n",
        "video_encoded = b64encode(video).decode(\"ascii\")\n",
        "video_tag = '<video controls src=\"data:video/x-m4v;base64,{0}\" height=720px>'.format(video_encoded) # Set the height to rescale the output.\n",
        "HTML(video_tag)"
      ]
    },
    {
      "cell_type": "markdown",
      "metadata": {
        "id": "Xjzm-Ufb97oY"
      },
      "source": [
        "### **Simulation with Strawberryfields, CV circuit**"
      ]
    },
    {
      "cell_type": "code",
      "execution_count": null,
      "metadata": {
        "id": "2PzGvj2Utxq3"
      },
      "outputs": [],
      "source": [
        "import strawberryfields.decompositions\n",
        "from strawberryfields.decompositions import *\n",
        "import strawberryfields as sf\n",
        "from strawberryfields import ops\n",
        "from strawberryfields.ops import *"
      ]
    },
    {
      "cell_type": "code",
      "execution_count": null,
      "metadata": {
        "id": "-MhmcIRfTFk1"
      },
      "outputs": [],
      "source": [
        "sf.Program(1)"
      ]
    },
    {
      "cell_type": "markdown",
      "source": [
        "We consider the Kerr-cat Hamiltonian introduced by Eq. (1) of the manuscript titled [Spectral kissing and its dynamical consequences in the squeezed Kerr-nonlinear oscillator\n",
        "](http://ursula.chem.yale.edu/~batista/NSF_CenterQuantumDynamics_ModularQuantumDevices/publications/publications_pdf_files/spectral_kissing_dynamics_squeezed_Kerr_oscillator.pdf):\n",
        "\n",
        " $$\\frac{\\hat{H}}{\\hbar K_{err}} = \\hat{n} (\\hat{n}-1) - \\zeta (\\hat{a}^2+{\\hat{a}^\\dagger}^2)$$ with $\\zeta=\\frac{\\epsilon}{K_{err}}=4$ and $\\frac{K_{err}}{2 \\pi}= 0.32~\\text{MHz}$.\n",
        "\n",
        "For a small time-step $\\tau=t/(\\hbar K_{err})$, we approximate the time-evolution operator, as follows:\n",
        "$$e^{-\\frac{i}{\\hbar} H \\tau} \\approx \\left[e^{-\\frac{i t}{\\hbar k} \\hat{n}^2} e^{\\frac{i t}{\\hbar k} \\hat{n}} e^{\\frac{i \\zeta t}{\\hbar k} ({\\hat{a}^\\dagger}^2+\\hat{a}^2)} \\right]^k + \\mathcal{O}(t^2/k)$$.\n",
        "\n",
        "Therefore, $$e^{-\\frac{i}{\\hbar} H \\tau} \\approx [K(-r) R(r)S(z)]^k + \\mathcal{O}(t^2/k),$$\n",
        "\n",
        "Here, $R(r) = e^{i r \\hat{n}}$, and $K(-r) = e^{-i r \\hat{n}^2}$, with $r=\\frac{t}{\\hbar k}$, while  $S(z) = e^{(z^* \\hat{a}^2 - z {\\hat{a}^\\dagger}^2)/2}$, with $z=-i r 2 \\zeta = \\vert z \\vert e^{i \\phi}$ where $\\vert z \\vert = r 2 \\zeta$ and $\\phi = - \\pi/2$."
      ],
      "metadata": {
        "id": "KpusIUWJ4sDY"
      }
    },
    {
      "cell_type": "code",
      "execution_count": null,
      "metadata": {
        "id": "ui7CSu4QsdSY"
      },
      "outputs": [],
      "source": [
        "def split_rho(k):\n",
        "  prog = sf.Program(1)\n",
        "\n",
        "  r = 0.05*10/200\n",
        "  zeta = 4\n",
        "  z = -2*zeta*r*1j\n",
        "\n",
        "  with prog.context as q:\n",
        "    # prepare the initial state\n",
        "    #Fock(2) | q[0]\n",
        "    #Dgate(1) | q[0]\n",
        "    # Propagation\n",
        "    for i in range(k):\n",
        "      Sgate(z) | q[0]\n",
        "      Rgate(r) | q[0]\n",
        "      Kgate(-r) | q[0]\n",
        "    # end circuit\n",
        "\n",
        "  # run the engine\n",
        "  eng = sf.Engine('fock', backend_options={\"cutoff_dim\": 10})\n",
        "  state = eng.run(prog).state\n",
        "  return state"
      ]
    },
    {
      "cell_type": "markdown",
      "metadata": {
        "id": "-hEzTGZXEmzm"
      },
      "source": [
        "**Husimi distribution**\n",
        "\n",
        "The Husimi distribution is the Weierstrass transform of the Wigner distribution, as follows: $$Q(\\alpha) = \\frac{2}{\\pi} \\int W(\\beta) e^{-2\\vert \\alpha -\\beta \\vert^2} d^2\\beta$$"
      ]
    },
    {
      "cell_type": "code",
      "execution_count": null,
      "metadata": {
        "id": "rwolOOM8uNeI"
      },
      "outputs": [],
      "source": [
        "# Gaussian Kernel to obtain the Husimi distribution as the Gaussian convolution of the Wigner transform\n",
        "from scipy.signal import convolve2d\n",
        "npt=100\n",
        "X = np.linspace(-10, 10, npt)\n",
        "P = np.linspace(-10, 10, npt)\n",
        "state = split_rho(0)\n",
        "W = state.wigner(0, X, P)\n",
        "Kern = np.empty_like(W)\n",
        "for i in range(np.size(X)):\n",
        "  for j in range(np.size(P)):\n",
        "    diff=np.abs((X[i]+1j*P[j])/np.sqrt(2))\n",
        "    Kern[j,i]=np.exp(-2*diff**2)*(X[1]-X[0])*(P[1]-P[0])/np.pi"
      ]
    },
    {
      "cell_type": "code",
      "execution_count": null,
      "metadata": {
        "id": "LIrkTk2lwYc8"
      },
      "outputs": [],
      "source": [
        "cb = None\n",
        "\n",
        "def plot_result2(n, fig=None, axes=None):\n",
        "    global cb\n",
        "    xmin = -5\n",
        "    xmax = 5\n",
        "    axes.cla()\n",
        "\n",
        "    X = np.linspace(xmin, xmax, npt)\n",
        "    P = np.linspace(xmin, xmax, npt)\n",
        "    state = split_rho(n)\n",
        "    W = state.wigner(0, X, P)\n",
        "\n",
        "    # For Husimi distribution\n",
        "    W = convolve2d(W,Kern, boundary='symm', mode='same')\n",
        "\n",
        "    X, P = np.meshgrid(X, P)\n",
        "\n",
        "    surf = axes.plot_surface(X, P, W, rstride=1, cstride=1, cmap=cm.jet,\n",
        "                              alpha=0.75, linewidth=0.05, vmax=0.25, vmin=-0.25)\n",
        "    axes.contour(X, P, W, 10, cmap=\"RdYlGn\", linestyles=\"solid\", offset=-0.17)\n",
        "    axes.set_xlim3d(xmin, xmax)\n",
        "    axes.set_ylim3d(xmin, xmax)\n",
        "    axes.set_zlim3d(-0.25, 0.25)\n",
        "    if not cb:\n",
        "        cb = plt.colorbar(surf, shrink=0.65, aspect=20)\n",
        "    return axes.artists\n",
        "\n",
        "\n",
        "def update2(n):\n",
        "    return plot_result2(n, fig=fig, axes=ax)"
      ]
    },
    {
      "cell_type": "code",
      "execution_count": null,
      "metadata": {
        "id": "HDAfIf4iw_UX"
      },
      "outputs": [],
      "source": [
        "name = 'Test-Surface-Animation2'\n",
        "# Set-up the figure\n",
        "fig = plt.figure(figsize=(8, 4), dpi=100)\n",
        "# Create 3D axes, add to figure\n",
        "ax = Axes3D(fig, azim=-107, elev=29)\n",
        "fig.add_axes(ax, projection='3D')\n",
        "# Create animation object and run routine to save to a .mp4 file\n",
        "anim = animation.FuncAnimation(fig, update2, frames=200, blit=True)\n",
        "anim.save(name + '.mp4', fps=10, writer=\"ffmpeg\", codec=None)\n",
        "plt.close(fig)"
      ]
    },
    {
      "cell_type": "code",
      "execution_count": null,
      "metadata": {
        "id": "oz19BqxXxIAh"
      },
      "outputs": [],
      "source": [
        "# Open Video and display in notebook by converting to HTML with base64\n",
        "video = open(name + '.mp4', \"rb\").read()\n",
        "video_encoded = b64encode(video).decode(\"ascii\")\n",
        "video_tag = '<video controls src=\"data:video/x-m4v;base64,{0}\" height=720px>'.format(video_encoded) # Set the height to rescale the output.\n",
        "HTML(video_tag)"
      ]
    },
    {
      "cell_type": "markdown",
      "metadata": {
        "id": "KyLQ4toofT2v"
      },
      "source": [
        "## **1-D Classical SOFT propagation**"
      ]
    },
    {
      "cell_type": "code",
      "execution_count": null,
      "metadata": {
        "id": "NN3ex1zsem0g"
      },
      "outputs": [],
      "source": [
        "'''constants'''\n",
        "N=500 #grid points\n",
        "hbar=1 #reduced plancks constant\n",
        "dt=0.5 #delta t\n",
        "m=1 #mass in au\n",
        "\n",
        "'''spatial grid'''\n",
        "xMin=0\n",
        "xMax=500\n",
        "x=np.linspace(xMin, xMax, N)\n",
        "\n",
        "'''momentum grid'''\n",
        "p=np.arange(-N/2, N/2)*((2*np.pi*hbar)/(N*((xMax-xMin)/(N-1))))\n",
        "\n",
        "'''wavefunction: guassian wavepacket'''\n",
        "k0=m/2 #initial momentum\n",
        "x0=xMax/2 #initial position\n",
        "sigma=(xMax-xMin)/30 #width\n",
        "psi=(1/(sigma*np.sqrt(2*np.pi)))*np.exp(-.5*((x-x0)/sigma)**2)*np.exp(-1j*k0*x)\n",
        "\n",
        "'''potential operator+propogator'''\n",
        "Vhat=np.zeros_like(x) #nothing\n",
        "Vhat[400:499]=1 #well between x=[400,499]\n",
        "Vprop=np.exp(-1j*dt*Vhat/(2*hbar)) #half step\n",
        "\n",
        "'''kinetic operator+propogator'''\n",
        "That=p**2/(2*m)\n",
        "Tprop=np.exp(-1j*dt*That/hbar)\n",
        "\n",
        "'''function for one step of split operator method'''\n",
        "def splitOperator(psi,Vprop=Vprop,Tprop=Tprop):\n",
        "  psi*=Vprop #1/2 step of potential propagator\n",
        "  psi_p=np.fft.fft(psi) #shift to momentum basis\n",
        "  psi_p*=Tprop #kinetic propagator\n",
        "  psi=np.fft.ifft(psi_p) #shift back to spatial basis\n",
        "  psi*=Vprop #1/2 step of potential propagator\n",
        "  return psi\n"
      ]
    },
    {
      "cell_type": "code",
      "execution_count": null,
      "metadata": {
        "id": "1Biafc2meD_w"
      },
      "outputs": [],
      "source": [
        "from matplotlib import animation, rc, pyplot as plt\n",
        "from IPython.display import HTML\n",
        "import numpy as np\n",
        "\n",
        "'''animate'''\n",
        "# First set up the figure, the axis, and the plot element we want to animate\n",
        "fig, ax = plt.subplots()\n",
        "plt.close()\n",
        "\n",
        "### parameters for plot\n",
        "ax.set_xlim(( 0, 500))\n",
        "ax.set_ylim((-0.001, 0.001))\n",
        "\n",
        "line, = ax.plot([], [], lw=2)\n",
        "lineV, = ax.plot([], [], lw=2)\n",
        "\n",
        "# initialization function: plot the background of each frame\n",
        "def init():\n",
        "    line.set_data([], [])\n",
        "    lineV.set_data([], [])\n",
        "    return (line, lineV,)\n",
        "\n",
        "def animate(i):\n",
        "  global psi\n",
        "  psi=splitOperator(psi)\n",
        "  line.set_data(x, np.conj(psi)*psi)\n",
        "  # lineV.set_data(x, Vhat)\n",
        "  return(line, lineV,)\n",
        "\n",
        "anim = animation.FuncAnimation(fig, animate, init_func=init,\n",
        "                             frames=400, interval=10, blit=True)\n",
        "\n",
        "# Note: below is the part which makes it work on Colab\n",
        "rc('animation', html='jshtml')\n",
        "anim"
      ]
    },
    {
      "cell_type": "code",
      "source": [],
      "metadata": {
        "id": "mAX3sk1Ycfhd"
      },
      "execution_count": null,
      "outputs": []
    },
    {
      "cell_type": "markdown",
      "metadata": {
        "id": "m6rkHesT5E5v"
      },
      "source": [
        "# Hamiltonian simulation with Qiskit"
      ]
    },
    {
      "cell_type": "markdown",
      "metadata": {
        "id": "HuRUpkR2SPMf"
      },
      "source": [
        "##SOFT Propagation"
      ]
    },
    {
      "cell_type": "code",
      "execution_count": null,
      "metadata": {
        "id": "gFltQl0y-qDk"
      },
      "outputs": [],
      "source": [
        "!pip install numpy\n",
        "!pip install qiskit\n",
        "!pip install pylatexenc"
      ]
    },
    {
      "cell_type": "code",
      "execution_count": null,
      "metadata": {
        "id": "ZyAB48lQ-vKy"
      },
      "outputs": [],
      "source": [
        "from qiskit import *\n",
        "import numpy as np\n",
        "from matplotlib import pyplot as plt\n",
        "from qiskit.visualization import plot_histogram\n",
        "from qiskit.circuit.library import QFT\n",
        "import pylatexenc\n",
        "\n",
        "from qiskit.visualization import plot_state_city, plot_bloch_multivector\n",
        "from qiskit.visualization import plot_state_paulivec, plot_state_hinton\n",
        "from qiskit.visualization import plot_state_qsphere\n",
        "from qiskit.quantum_info.operators import Operator\n",
        "from qiskit import QuantumCircuit, QuantumRegister\n",
        "#import prepare_MPS as mps\n",
        "from qiskit import BasicAer, execute\n",
        "import matplotlib\n",
        "from matplotlib import axes"
      ]
    },
    {
      "cell_type": "code",
      "execution_count": null,
      "metadata": {
        "id": "gqvvXAdPYFJR"
      },
      "outputs": [],
      "source": [
        "import itertools\n",
        "import scipy.linalg as spLA\n",
        "import matplotlib.pyplot as plt\n",
        "from tqdm.notebook import trange\n",
        "np.set_printoptions(linewidth=110)\n",
        "\n",
        "from qiskit import QuantumCircuit, ClassicalRegister, QuantumRegister\n",
        "from qiskit import BasicAer, execute\n",
        "from qiskit.compiler import transpile\n",
        "from qiskit.opflow import X, Y, Z, I, One, Zero, PauliOp, PauliSumOp, Suzuki\n",
        "from qiskit.opflow.evolutions import PauliTrotterEvolution\n",
        "from qiskit.quantum_info.operators import Operator, Pauli\n",
        "from qiskit.quantum_info import process_fidelity\n",
        "from qiskit.extensions import RXGate, XGate, CXGate\n",
        "from qiskit.circuit import Parameter"
      ]
    },
    {
      "cell_type": "code",
      "execution_count": null,
      "metadata": {
        "id": "fowc1GchLbtJ"
      },
      "outputs": [],
      "source": [
        "#------------ Utility Functions ------------#\n",
        "\n",
        "def vec_query(arr, my_dict):\n",
        "    '''\n",
        "    This function vectorizes dictionary querying, allowing us to query `my_dict` with a np.array `arr` of keys.\n",
        "    '''\n",
        "\n",
        "    return np.vectorize(my_dict.__getitem__, otypes=[tuple])(arr)\n",
        "\n",
        "def nested_kronecker_product(a):\n",
        "    '''\n",
        "    Handles Kronecker Products for list (i.e.,  a = [Z, Z, Z] will evaluate Z ⊗ Z ⊗ Z)\n",
        "    '''\n",
        "    if len(a) == 2:\n",
        "            return np.kron(a[0],a[1])\n",
        "    else:\n",
        "        return np.kron(a[0], nested_kronecker_product(a[1:]))\n",
        "\n",
        "def Hilbert_Schmidt(mat1, mat2):\n",
        "    # |ψ1> and |ψ2>: <ψ1*|ψ2> for <ψ1|*\n",
        "    return np.trace(mat1.conj().T * mat2)\n",
        "\n",
        "def decompose(H, verbose=False):\n",
        "    #define the four Pauli-matrices in a dictionary:\n",
        "    pms = { 'I': np.array([[1, 0], [0, 1]], dtype=complex),\n",
        "            # 'X': np.array([[0, 1], [1, 0]], dtype=complex),\n",
        "#             'Y': np.array([[0, -1j], [1j, 0]], dtype=complex),\n",
        "            'Z': np.array([[1, 0], [0, -1]], dtype=complex)}\n",
        "    if verbose:\n",
        "        print('Terms of the Operator:\\n')\n",
        "    pauli_keys = list(pms.keys()) # Grab Matrix Names for printing\n",
        "    nqb = int(np.log2(H.shape[0])) # Get the number of qubits needed for our pauli strings\n",
        "    output_string = ''\n",
        "    sigma_combinations = list(itertools.product(pauli_keys, repeat=nqb))    # Gives all possible combinations of nqb Pa\n",
        "\n",
        "    for ii in trange(len(sigma_combinations)):\n",
        "        name = sigma_combinations[ii][0]\n",
        "        for ll in range(1, len(sigma_combinations[ii])):\n",
        "            name = name + '⊗' + sigma_combinations[ii][ll]\n",
        "        alt_name = ''.join(sigma_combinations[ii]) # For tequila compatibility\n",
        "        a_ij = (1/(2**nqb)) * Hilbert_Schmidt(nested_kronecker_product(vec_query(np.array(sigma_combinations[ii]), pms)), H)\n",
        "        # If the Hilbert-Schmidt Product doesn't reduce to 0\n",
        "        if a_ij != 0.0:\n",
        "            if abs(a_ij) < 1e-10:\n",
        "                pass\n",
        "            else:\n",
        "                if verbose:\n",
        "                    print(np.round(a_ij.real, 6),'', name)\n",
        "                output_string += str(np.round(a_ij.real, 6))+'*'+alt_name\n",
        "                output_string += '+'\n",
        "    return output_string[:-1] # To ignore that extra plus sign\n",
        "\n",
        "\n",
        "def build_pauli_dict(decomposed_operator):\n",
        "    single_terms = decomposed_operator.split('+')\n",
        "    pauli_dict_out = {}\n",
        "    for term in single_terms:\n",
        "        coeff, pauli_str = term.split('*')\n",
        "        pauli_dict_out[pauli_str] = float(coeff)\n",
        "    return pauli_dict_out\n",
        "\n",
        "\n",
        "def pauli_strings_2_pauli_sum(operator):\n",
        "    tmp_pauli_dict = build_pauli_dict(operator)\n",
        "    # Convert the dict to a list of tuples of the form [('Pauli String', float_coeff), ...]\n",
        "    tmp_pauli_list = list(zip(tmp_pauli_dict.keys(), tmp_pauli_dict.values()))\n",
        "    # Construct a qiskit PauliSumOp from this list\n",
        "    tmp_pauli_sum = PauliSumOp.from_list(tmp_pauli_list)\n",
        "    return tmp_pauli_sum\n"
      ]
    },
    {
      "cell_type": "markdown",
      "metadata": {
        "id": "YTST9xve_cUf"
      },
      "source": [
        "**Coordinate representation**"
      ]
    },
    {
      "cell_type": "code",
      "execution_count": null,
      "metadata": {
        "id": "ZTJ8m18GWMgn"
      },
      "outputs": [],
      "source": [
        "d=6   # number of qubits\n",
        "xMin=-1.75*1.5\n",
        "xMax=-xMin\n",
        "x = np.linspace(xMin,xMax, num=2**d)\n",
        "VV =0.429*x-1.126*x**2-0.143*x**3+0.563*x**4"
      ]
    },
    {
      "cell_type": "code",
      "execution_count": null,
      "metadata": {
        "id": "MGoCAUGe5Qou"
      },
      "outputs": [],
      "source": [
        "# Gaussian wavepacket on a grid\n",
        "mu=-0.5\n",
        "psi= (1/(np.sqrt(2*np.pi)*2*0.4)*np.exp(-(0.5*(x-mu)**2)/(2*0.016)))\n",
        "#*np.exp(-600j*(x-mu))\n",
        "psi/= np.sqrt(np.sum(np.abs(psi)**2))"
      ]
    },
    {
      "cell_type": "markdown",
      "metadata": {
        "id": "NtMUeLdmU20e"
      },
      "source": [
        "\n",
        "The binary representation of the coordinate $x$ is:\n",
        "\n",
        "$x(x_0,\\dots,x_{N-1}) = x_{Min} + \\Delta \\sum_{j=0}^{N-1} 2^j x_j$, where $x_j=\\{0,1\\}$, and $\\Delta = \\frac{x_{Max}-x_{Min}}{2^{N}-1}$. Note that $\\sum_{j=0}^{N-1} 2^j = \\frac{1-2^N}{1-2} = 2^N-1$, so $x(0,\\dots,0) = x_{Min}$, and $x(1,\\dots,1) = x_{Min} + \\frac{x_{Max}-x_{Min}}{2^{N}-1} (2^N-1) = x_{Max}$.\n",
        "\n",
        "Introducing the change of variables $s_j = 2 x_j -1$, we obtain:\n",
        "\n",
        "$x(s_0,\\dots,s_{N-1}) = x_{Min} + \\Delta \\sum_{j=0}^{N-1} 2^{j} \\frac{(s_j+1)}{2}$"
      ]
    },
    {
      "cell_type": "code",
      "execution_count": null,
      "metadata": {
        "id": "qdFavgCVVsFF"
      },
      "outputs": [],
      "source": [
        "# PES and KE operators\n",
        "\n",
        "dx=(xMax-xMin)/(2**d-1)\n",
        "xj=0.5*(Operator(Pauli('I'))+Operator(Pauli('Z')))\n",
        "# position operator\n",
        "op_x = xMin * Operator(Pauli('I'* d))\n",
        "op_x += dx * (Operator(Pauli('I'*(d-1))) ^ xj)\n",
        "for j in range(1, d-1):\n",
        "  op_x += dx * 2**j * (Operator(Pauli('I'*(d-j-1))) ^ xj ^ Operator(Pauli('I'*j)))\n",
        "op_x += dx * 2**(d-1) * (xj ^ Operator(Pauli('I'*(d-1))))\n",
        "# powers of position operator\n",
        "op_x2 = op_x.compose(op_x)\n",
        "op_x3 = op_x2.compose(op_x)\n",
        "op_x4 = op_x2.compose(op_x2)\n",
        "# PES operator\n",
        "op_VV = 0.429 * op_x -1.126 * op_x2 -0.143 * op_x3 + 0.563 * op_x4\n",
        "\n",
        "# KE operator\n",
        "dp=2*np.pi/(xMax-xMin)\n",
        "N=2**d\n",
        "p=np.zeros(N,dtype=float)\n",
        "for i in range(N):\n",
        "  p[i]=dp*(i-N/2)\n",
        "p=np.fft.fftshift(p)\n",
        "\n",
        "pMin=p[0]\n",
        "pk=0.5*(Operator(Pauli('I'))+Operator(Pauli('Z')))\n",
        "# momentum operator\n",
        "op_p = pMin * Operator(Pauli('I'* d))\n",
        "op_p += dp * (Operator(Pauli('I'*(d-1))) ^ pk)\n",
        "for k in range(1, d-1):\n",
        "  op_p += dp * 2**k * (Operator(Pauli('I'*(d-k-1))) ^ pk ^ Operator(Pauli('I'*k)))\n",
        "op_p += dp * 2**(d-1) * (pk ^ Operator(Pauli('I'*(d-1))))\n",
        "# kinetic energy operator\n",
        "mass=1\n",
        "op_ke = 0.5/mass*op_p.compose(op_p)"
      ]
    },
    {
      "cell_type": "code",
      "execution_count": null,
      "metadata": {
        "id": "xC2lwLkOC1zu"
      },
      "outputs": [],
      "source": [
        "VVd = op_VV.data\n",
        "KEd = op_ke.data"
      ]
    },
    {
      "cell_type": "code",
      "execution_count": null,
      "metadata": {
        "id": "XJefiYe0n-7B"
      },
      "outputs": [],
      "source": [
        "decomposed_VVd = decompose(VVd, verbose=False)\n",
        "circ_VVd = pauli_strings_2_pauli_sum(decomposed_VVd)\n",
        "time_step = Parameter('t')\n",
        "#time_step = 0.005*0.1\n",
        "VVd_prop = (time_step*circ_VVd).exp_i()\n",
        "trotterized_Vop = PauliTrotterEvolution(trotter_mode=Suzuki(order=2, reps=1)).convert(VVd_prop)\n",
        "\n",
        "decomposed_KEd = decompose(KEd, verbose=False)\n",
        "circ_KEd = pauli_strings_2_pauli_sum(decomposed_KEd)\n",
        "#time_step = Parameter('t')\n",
        "KEd_prop = (time_step*circ_KEd).exp_i()\n",
        "trotterized_KEop = PauliTrotterEvolution(trotter_mode=Suzuki(order=2, reps=1)).convert(KEd_prop)"
      ]
    },
    {
      "cell_type": "code",
      "execution_count": null,
      "metadata": {
        "id": "EcbrfynWsdBP"
      },
      "outputs": [],
      "source": [
        "from qiskit.circuit.library import QFT\n",
        "# Initialize an Empty Circuit\n",
        "nqubits=d\n",
        "q_reg=QuantumRegister(nqubits)\n",
        "c_reg=ClassicalRegister(nqubits)\n",
        "#qc = QuantumCircuit(q_reg,c_reg)\n",
        "qc = QuantumCircuit(q_reg)\n",
        "\n",
        "qc.initialize(psi,q_reg[:])\n",
        "qc.barrier()\n",
        "for k in trange(20):\n",
        "#  qc.append(VVd_prop, q_reg)\n",
        "  bound_op = trotterized_Vop.bind_parameters({time_step: 0.0005})\n",
        "  qc.append(bound_op, q_reg)\n",
        "#  qc.append(trotterized_Vop, q_reg)\n",
        "  qc.append(QFT(d),q_reg)\n",
        "#  qc.append(KEd_prop, q_reg[:])\n",
        "#  qc.append(trotterized_KEop, q_reg[:])\n",
        "  bound_op = trotterized_KEop.bind_parameters({time_step: 0.0005})\n",
        "  qc.append(bound_op, q_reg)\n",
        "  qc.append(QFT(d,inverse=True),q_reg[:])\n",
        "  qc.barrier()\n",
        "#qc.measure_all(add_bits = False)"
      ]
    },
    {
      "cell_type": "code",
      "execution_count": null,
      "metadata": {
        "id": "5nxteoRV7vKw"
      },
      "outputs": [],
      "source": [
        "psin = execute(qc, backend=BasicAer.get_backend('statevector_simulator')).result()\n",
        "psin = psin.get_statevector()\n",
        "\n",
        "# Visualization\n",
        "plt.rcParams[\"figure.figsize\"] = [12.50, 6.50]\n",
        "\n",
        "plt.plot(x,np.real(psin), label='real')\n",
        "plt.plot(x,np.imag(psin), label='imag')\n",
        "plt.plot(x,np.abs(psin), label='abs')\n",
        "plt.plot(x,VV,linewidth=3)\n",
        "plt.plot(x,abs(psi),'x', label='initial')\n",
        "leg = plt.legend(loc='upper right')\n",
        "plt.ylim(-1,1)\n",
        "plt.show()"
      ]
    },
    {
      "cell_type": "markdown",
      "metadata": {
        "id": "AA1fHWz2oD78"
      },
      "source": [
        "Classical benchmark"
      ]
    },
    {
      "cell_type": "code",
      "execution_count": null,
      "metadata": {
        "id": "iZKzhfCzoGYS"
      },
      "outputs": [],
      "source": [
        "psi_c_init=psi"
      ]
    },
    {
      "cell_type": "code",
      "execution_count": null,
      "metadata": {
        "id": "wUwMH6tGolJh"
      },
      "outputs": [],
      "source": [
        "#Classical SOFT routine\n",
        "def soft(fxy,emat,Pxy):\n",
        "    # soft propagation\n",
        "    out=emat*fxy\n",
        "    fp=np.fft.fft(out)*Pxy\n",
        "    out=np.fft.ifft(fp)\n",
        "    return out"
      ]
    },
    {
      "cell_type": "code",
      "execution_count": null,
      "metadata": {
        "id": "QoshaIUIoodJ"
      },
      "outputs": [],
      "source": [
        "tau=0.0005\n",
        "EYE=1j\n",
        "UV=np.exp(-EYE*VV*tau)\n",
        "Up=np.exp(-EYE*tau*p**2/2/mass)"
      ]
    },
    {
      "cell_type": "code",
      "execution_count": null,
      "metadata": {
        "id": "S8HWMrfRpeCZ"
      },
      "outputs": [],
      "source": [
        "psi_c=psi_c_init\n",
        "iterations=20\n",
        "for i in range(iterations):\n",
        "  psi_c=soft(psi_c,UV,Up)"
      ]
    },
    {
      "cell_type": "code",
      "execution_count": null,
      "metadata": {
        "id": "2E1zuXCOqNkL"
      },
      "outputs": [],
      "source": [
        "# Visualization\n",
        "plt.rcParams[\"figure.figsize\"] = [12.50, 6.50]\n",
        "\n",
        "plt.plot(x,np.abs(psi_c),label='abs,classical SOFT')\n",
        "plt.plot(x,np.abs(psi_c_init),label='abs,initial')\n",
        "plt.plot(x,np.abs(psin), label='abs,quantum SOFT')\n",
        "plt.plot(x,VV,linewidth=3)\n",
        "leg = plt.legend(loc='upper right')\n",
        "plt.ylim(-1,1)\n",
        "plt.show()"
      ]
    },
    {
      "cell_type": "code",
      "execution_count": null,
      "metadata": {
        "id": "B9auKkytzvvG"
      },
      "outputs": [],
      "source": [
        "#onev=np.ones((2**d))\n",
        "#KEo = KEd @ onev   # Kinetic energy\n",
        "#plt.plot(x,np.real(KEo[::-1]))"
      ]
    },
    {
      "cell_type": "markdown",
      "metadata": {
        "id": "9-UVZfYA0PpT"
      },
      "source": [
        "## Expectation value: Hadamard test"
      ]
    },
    {
      "cell_type": "code",
      "execution_count": null,
      "metadata": {
        "id": "WYR6HBHr1Fsg"
      },
      "outputs": [],
      "source": [
        "d=4   # number of qubits\n",
        "xMin=-1.75\n",
        "xMax=1.75\n",
        "x = np.linspace(xMin,xMax, num=2**d)\n",
        "#VV =0.429*x-1.126*x**2-0.143*x**3+0.563*x**4\n",
        "#xm=(x-xMin)*1/(xMax-xMin)\n",
        "#ac=np.arccos(xm)"
      ]
    },
    {
      "cell_type": "code",
      "execution_count": null,
      "metadata": {
        "id": "GCtgcJDi0TGV"
      },
      "outputs": [],
      "source": [
        "#plt.plot(xm,np.cos(ac)*(xMax-xMin)+xMin)"
      ]
    },
    {
      "cell_type": "code",
      "execution_count": null,
      "metadata": {
        "id": "G7DPrWtHe9xx"
      },
      "outputs": [],
      "source": [
        "dx=(xMax-xMin)/(2**d-1)\n",
        "xj=0.5*(Operator(Pauli('I'))+Operator(Pauli('Z')))\n",
        "# position operator\n",
        "op_x = xMin * Operator(Pauli('I'* d))\n",
        "op_x += dx * (Operator(Pauli('I'*(d-1))) ^ xj)\n",
        "for j in range(1, d-1):\n",
        "  op_x += dx * 2**j * (Operator(Pauli('I'*(d-j-1))) ^ xj ^ Operator(Pauli('I'*j)))\n",
        "op_x += dx * 2**(d-1) * (xj ^ Operator(Pauli('I'*(d-1))))\n",
        "\n",
        "op_xm = op_x\n",
        "xmd=op_xm.data\n",
        "\n",
        "# op_xm = (op_x - xMin * Operator(Pauli('I'* d)))*1/(xMax-xMin)\n",
        "\n",
        "# powers of position operator\n",
        "# op_x2 = op_x.compose(op_x)\n",
        "# op_x3 = op_x2.compose(op_x)\n",
        "# op_x4 = op_x2.compose(op_x2)\n",
        "# # PES operator\n",
        "# op_VV = 0.429 * op_x -1.126 * op_x2 -0.143 * op_x3 + 0.563 * op_x4"
      ]
    },
    {
      "cell_type": "code",
      "execution_count": null,
      "metadata": {
        "id": "1EeYySs300RN"
      },
      "outputs": [],
      "source": [
        "# VVd=op_VV.data\n",
        "xmd=op_xm.data"
      ]
    },
    {
      "cell_type": "code",
      "execution_count": null,
      "metadata": {
        "id": "LX4VKP9PKRj8"
      },
      "outputs": [],
      "source": [
        "xmd.shape"
      ]
    },
    {
      "cell_type": "code",
      "execution_count": null,
      "metadata": {
        "id": "EqC1hAkb24-Q"
      },
      "outputs": [],
      "source": [
        "decomposed_xmd = decompose(xmd, verbose=False)\n",
        "circ_xmd = pauli_strings_2_pauli_sum(decomposed_xmd)\n",
        "U_xmd = circ_xmd.exp_i()\n",
        "tU_xmd = PauliTrotterEvolution(trotter_mode=Suzuki(order=2, reps=1)).convert(U_xmd)\n",
        "\n",
        "q_r=QuantumRegister(d)\n",
        "qc2 = QuantumCircuit(q_r)\n",
        "#qc2.h(q_r)\n",
        "qc2.append(tU_xmd, q_r)\n",
        "#qc2.append(U_xmd, q_r)\n",
        "qc2=qc2.decompose()"
      ]
    },
    {
      "cell_type": "code",
      "execution_count": null,
      "metadata": {
        "id": "Z7p2K_k8vvKs"
      },
      "outputs": [],
      "source": [
        "q_r=QuantumRegister(d)\n",
        "qc3 = QuantumCircuit(q_r)\n",
        "qc3.h(q_r)\n",
        "qc3.append(tU_xmd, q_r)\n",
        "qc3=qc3.decompose()"
      ]
    },
    {
      "cell_type": "code",
      "execution_count": null,
      "metadata": {
        "id": "MFHpgLI40ekY"
      },
      "outputs": [],
      "source": [
        "cqc2=qc2.control()"
      ]
    },
    {
      "cell_type": "code",
      "execution_count": null,
      "metadata": {
        "id": "1zJhygEq0nv3"
      },
      "outputs": [],
      "source": [
        "cqc2=cqc2.decompose()\n",
        "cqc2.draw('mpl')"
      ]
    },
    {
      "cell_type": "code",
      "execution_count": null,
      "metadata": {
        "id": "C5UqOWS8qxQQ"
      },
      "outputs": [],
      "source": [
        "decomposed_xmd"
      ]
    },
    {
      "cell_type": "code",
      "execution_count": null,
      "metadata": {
        "id": "Xu6muQiiY1Mr"
      },
      "outputs": [],
      "source": [
        "out = execute(qc3, backend=BasicAer.get_backend('statevector_simulator')).result()\n",
        "out = out.get_statevector()"
      ]
    },
    {
      "cell_type": "code",
      "execution_count": null,
      "metadata": {
        "id": "0logqyxFKmSY"
      },
      "outputs": [],
      "source": [
        "out"
      ]
    },
    {
      "cell_type": "code",
      "execution_count": null,
      "metadata": {
        "id": "NLr_3XNhY8Aa"
      },
      "outputs": [],
      "source": [
        "# Compare psio to state generated by circuit and measurements\n",
        "plt.rcParams[\"figure.figsize\"] = [12.50, 6.50]\n",
        "plt.plot(x,np.real(out), label='real')\n",
        "plt.plot(x,np.real(np.exp(1j*x))/4., 'o', label='real_c')\n",
        "plt.plot(x,np.imag(np.exp(1j*x))/4., 'o', label='imag_c')\n",
        "plt.plot(x,np.imag(out), label='imag')\n",
        "plt.plot(x,np.abs(out), label='abs')\n",
        "leg = plt.legend(loc='upper right')\n",
        "plt.show()"
      ]
    },
    {
      "cell_type": "code",
      "execution_count": null,
      "metadata": {
        "id": "4s1sac0f2j9r"
      },
      "outputs": [],
      "source": [
        "# Gaussian wavepacket on a grid\n",
        "mu=-0.5\n",
        "psi= (1/(np.sqrt(2*np.pi)*2*0.4)*np.exp(-(0.5*(x-mu)**2)/(2*0.016)))*np.exp(-600j*(x-mu))\n",
        "psi/= np.sqrt(np.sum(np.abs(psi)**2))\n",
        "\n",
        "print(\"Re(e^(ix))=\",np.sum(psi*np.cos(x)*np.conj(psi)))\n",
        "\n",
        "# Quantum circuit for initial state generated by initialize\n",
        "q=QuantumRegister(d)\n",
        "cpsi=QuantumCircuit(q)    # circuit\n",
        "cpsi.initialize(psi,q[:])\n",
        "\n",
        "qre = QuantumRegister(5)\n",
        "cre = ClassicalRegister(1)\n",
        "circ = QuantumCircuit(qre,cre)\n",
        "\n",
        "circ.append(cpsi,qre[1:])\n",
        "circ.barrier()\n",
        "circ.h(0)\n",
        "circ.append(cqc2, qre)\n",
        "# # circ.append(QFT(d+1),qre[1:])\n",
        "# # circ.x(0)\n",
        "# # circ.append(qc2_transc, qre)\n",
        "# # circ.x(0)\n",
        "circ.h(0)\n",
        "circ.barrier()\n",
        "circ.measure(0,0)"
      ]
    },
    {
      "cell_type": "code",
      "execution_count": null,
      "metadata": {
        "id": "mnx4EkOl4ef3"
      },
      "outputs": [],
      "source": [
        "#circ=circ.decompose()\n",
        "circ.draw('mpl')"
      ]
    },
    {
      "cell_type": "code",
      "execution_count": null,
      "metadata": {
        "id": "OiWYB0zn7f-9"
      },
      "outputs": [],
      "source": [
        "from qiskit import execute, Aer\n",
        "#M_simulator=Aer.backends(name='qasm_simulator')[0]\n",
        "M_simulator=BasicAer.get_backend('qasm_simulator')\n",
        "nit=40\n",
        "av=np.zeros(nit)\n",
        "nm=np.zeros(nit)\n",
        "for j in range(nit):\n",
        "  nm[j]=(j+1)*1000\n",
        "  job=execute(circ, M_simulator,shots=int(nm[j]))\n",
        "  answer=job.result().get_counts()\n",
        "  # plot_histogram(answer)\n",
        "  anc=np.zeros(2)\n",
        "  count=0\n",
        "  for key in sorted(answer.keys()):\n",
        "    anc[count]=answer[key]\n",
        "    count+=1\n",
        "#    av[j]=np.arccos((anc[0]-anc[1])/(anc[0]+anc[1]))*(xMax-xMin)+xMin\n",
        "    av[j]=((anc[0]-anc[1])/(anc[0]+anc[1]))\n",
        "plt.plot(nm*0.001,av-0.869275973692271,'-o')\n",
        "plt.grid()"
      ]
    },
    {
      "cell_type": "code",
      "execution_count": null,
      "metadata": {
        "id": "NbNWRmmO5dNr"
      },
      "outputs": [],
      "source": [
        "from qiskit.quantum_info.operators import Operator\n",
        "from qiskit.compiler import transpile\n",
        "from qiskit.providers.aer.noise import NoiseModel\n",
        "from qiskit.test.mock import FakeVigo\n",
        "from qiskit import Aer, execute, IBMQ"
      ]
    },
    {
      "cell_type": "code",
      "execution_count": null,
      "metadata": {
        "id": "qOrfa0s64mUl"
      },
      "outputs": [],
      "source": [
        "device_backend = FakeVigo()\n",
        "noise_model = NoiseModel.from_backend(device_backend)\n",
        "coupling_map = device_backend.configuration().coupling_map\n",
        "basis_gates = noise_model.basis_gates\n",
        "simulator = Aer.get_backend('qasm_simulator')"
      ]
    },
    {
      "cell_type": "code",
      "execution_count": null,
      "metadata": {
        "id": "cBsAndhgLyg8"
      },
      "outputs": [],
      "source": [
        "qc_trans = transpile(circ,simulator, coupling_map=coupling_map, basis_gates=basis_gates)\n",
        "print(qc_trans.draw())"
      ]
    },
    {
      "cell_type": "code",
      "execution_count": null,
      "metadata": {
        "id": "n-F5_6NWQBgo"
      },
      "outputs": [],
      "source": [
        "from qiskit import execute, Aer\n",
        "#M_simulator=Aer.backends(name='qasm_simulator')[0]\n",
        "M_simulator=BasicAer.get_backend('qasm_simulator')\n",
        "nit=50\n",
        "av=np.zeros(nit)\n",
        "nm=np.zeros(nit)\n",
        "for j in range(nit):\n",
        "  nm[j]=(j+1)*1000\n",
        "  job=execute(qc_trans, M_simulator,shots=int(nm[j]))\n",
        "  answer=job.result().get_counts()\n",
        "  # plot_histogram(answer)\n",
        "  anc=np.zeros(2)\n",
        "  count=0\n",
        "  for key in sorted(answer.keys()):\n",
        "    anc[count]=answer[key]\n",
        "    count+=1\n",
        "#    av[j]=np.arccos((anc[0]-anc[1])/(anc[0]+anc[1]))*(xMax-xMin)+xMin\n",
        "    av[j]=((anc[0]-anc[1])/(anc[0]+anc[1]))\n",
        "plt.plot(nm*0.001,av-0.869275973692271,'-o')\n",
        "plt.grid()"
      ]
    },
    {
      "cell_type": "code",
      "execution_count": null,
      "metadata": {
        "id": "98tQRddxLx5c"
      },
      "outputs": [],
      "source": []
    },
    {
      "cell_type": "markdown",
      "metadata": {
        "id": "fUrDdNBHbbgY"
      },
      "source": [
        "# Hamiltonian Simulation building the circuit explicitly"
      ]
    },
    {
      "cell_type": "code",
      "execution_count": null,
      "metadata": {
        "id": "u50ijxOdkCZI"
      },
      "outputs": [],
      "source": [
        "!pip install numpy\n",
        "!pip install qiskit\n",
        "!pip install pylatexenc"
      ]
    },
    {
      "cell_type": "code",
      "execution_count": null,
      "metadata": {
        "id": "W_dmoLYwkgfM"
      },
      "outputs": [],
      "source": [
        "from qiskit import *\n",
        "import numpy as np\n",
        "from matplotlib import pyplot as plt\n",
        "from qiskit.visualization import plot_histogram\n",
        "from qiskit.circuit.library import QFT\n",
        "import pylatexenc\n",
        "\n",
        "from qiskit.visualization import plot_state_city, plot_bloch_multivector\n",
        "from qiskit.visualization import plot_state_paulivec, plot_state_hinton\n",
        "from qiskit.visualization import plot_state_qsphere\n",
        "from qiskit.quantum_info.operators import Operator\n",
        "from qiskit import QuantumCircuit, QuantumRegister\n",
        "#import prepare_MPS as mps\n",
        "from qiskit import BasicAer, execute\n",
        "import matplotlib\n",
        "from matplotlib import axes"
      ]
    },
    {
      "cell_type": "code",
      "execution_count": null,
      "metadata": {
        "id": "x5ZoK8aZ0PFO"
      },
      "outputs": [],
      "source": [
        "def exp_all_z(circuit, quantum_register,\n",
        "              pauli_idexes, control_qubit=None, t=1):\n",
        "    \"\"\"\n",
        "    The implementation of exp(iZZ..Z t), where Z is\n",
        "    the Pauli Z operator, t is a parameter.\n",
        "    :param circuit: QuantumCircuit.\n",
        "    :param quantum_register: QuantumRegister.\n",
        "    :param pauli_idexes: the indexes from quantum_register that\n",
        "                         correspond to entries not equal to I:\n",
        "                         e.g. if we have XIYZI then the\n",
        "                         pauli_idexes = [0,2,3].\n",
        "    :param control_qubit: the control Qubit from QuantumRegister\n",
        "                          other than quantum_register.\n",
        "    :param t: the parameter t in exp(iZZ..Z t).\n",
        "    \"\"\"\n",
        "    if control_qubit is not None:\n",
        "        combined_regs = circuit.qregs + [control_qubit.register]\n",
        "        out_circuit = QuantumCircuit(*combined_regs)\n",
        "        out_circuit.compose(circuit)\n",
        "        circuit = out_circuit\n",
        "    # the controlled_exp(iIt) special case\n",
        "    if len(pauli_idexes) == 0 and control_qubit is not None:\n",
        "        circuit.add_register(control_qubit.register)\n",
        "        circuit.u1(t, control_qubit)\n",
        "        return\n",
        "\n",
        "    # the first CNOTs\n",
        "    for i in range(len(pauli_idexes) - 1):\n",
        "        circuit.cx(quantum_register[pauli_idexes[i]],\n",
        "                   quantum_register[pauli_idexes[i + 1]])\n",
        "\n",
        "    # Rz gate\n",
        "    if control_qubit is None:\n",
        "        circuit.rz(-2 * t, quantum_register[pauli_idexes[-1]])\n",
        "    else:\n",
        "\n",
        "        #circuit.add_register(control_qubit.register)\n",
        "        # circuit.qubits.append(control_qubit[0])\n",
        "        circuit.crz(-2 * t,\n",
        "                    control_qubit, quantum_register[pauli_idexes[-1]])\n",
        "\n",
        "    # the second CNOTs\n",
        "    for i in reversed(range(len(pauli_idexes) - 1)):\n",
        "        circuit.cx(quantum_register[pauli_idexes[i]],\n",
        "                   quantum_register[pauli_idexes[i + 1]])\n",
        "    return circuit\n",
        "\n",
        "def exp_pauli(pauli, quantum_register, control_qubit=None, t=1):\n",
        "    \"\"\"\n",
        "    The circuit for the exp(i P t), where P is the Pauli term,\n",
        "    t is the parameter.\n",
        "    :param pauli: the string for the Pauli term: e.g. \"XIXY\".\n",
        "    :param quantum_register: QuantumRegister.\n",
        "    :param control_qubit: the control Qubit from QuantumRegister\n",
        "                          other than quantum_register.\n",
        "    :param t: the parameter t in exp(i P t).\n",
        "    :return: QuantumCircuit that implements exp(i P t) or\n",
        "             control version of it.\n",
        "    \"\"\"\n",
        "    if len(pauli) != len(quantum_register):\n",
        "        raise Exception(\"Pauli string doesn't match to the quantum register\")\n",
        "\n",
        "    pauli_circuit = QuantumCircuit(quantum_register)\n",
        "    circuit_bracket = QuantumCircuit(quantum_register)\n",
        "    pauli_idexes = []\n",
        "\n",
        "    for i in range(len(quantum_register)):\n",
        "        if pauli[i] == 'I':\n",
        "            continue\n",
        "        elif pauli[i] == 'Z':\n",
        "            pauli_idexes.append(i)\n",
        "        elif pauli[i] == 'X':\n",
        "            circuit_bracket.h(quantum_register[i])\n",
        "            pauli_idexes.append(i)\n",
        "        elif pauli[i] == 'Y':\n",
        "            # circuit_bracket.u2(np.pi / 2, np.pi / 2, quantum_register[i]) # deprecated... use next line\n",
        "            circuit_bracket.u(np.pi/2, np.pi / 2, np.pi / 2, quantum_register[i])\n",
        "            pauli_idexes.append(i)\n",
        "\n",
        "    pauli_circuit.compose(circuit_bracket, inplace=True)\n",
        "    pauli_circuit = exp_all_z(pauli_circuit, quantum_register, pauli_idexes, control_qubit, t)\n",
        "    pauli_circuit.compose(circuit_bracket, inplace=True)\n",
        "\n",
        "    return pauli_circuit\n",
        "\n",
        "def hamiltonian_simulation(hamiltonian, quantum_register=None,\n",
        "                           control_qubit=None, t=1, trotter_number=1):\n",
        "    \"\"\"\n",
        "    The implementation of exp(iHt), where H is the Hamiltonian\n",
        "    operator, t is the parameter.\n",
        "    :param hamiltonian: dictionary of Pauli terms with their weights:\n",
        "                        e.g. {\"XZX\": 2, \"ZYI\": 5, \"IYZ\": 7}.\n",
        "    :param quantum_register: QuantumRegister.\n",
        "    :param control_qubit: the control Qubit from QuantumRegister\n",
        "                          other than quantum_register.\n",
        "    :param t: the parameter t in exp(iHt).\n",
        "    :param trotter_number: the Trotter number.\n",
        "    :return: QuantumCircuit that corresponds to exp(iHt)\n",
        "             or control version of it.\n",
        "    \"\"\"\n",
        "    if quantum_register is None:\n",
        "        quantum_register = QuantumRegister(len(list(hamiltonian.keys())[0]))\n",
        "    if control_qubit in quantum_register:\n",
        "        raise Exception(\"the control qubit is in the target register\")\n",
        "    delta_t = t / trotter_number\n",
        "    exp_hamiltonian = QuantumCircuit(quantum_register)\n",
        "    exp_delta_t = QuantumCircuit(quantum_register)\n",
        "    if control_qubit is not None:\n",
        "        _q = exp_delta_t.qregs + [control_qubit.register]\n",
        "        out_circuit = QuantumCircuit(*_q)\n",
        "        exp_delta_t = out_circuit\n",
        "        exp_hamiltonian = QuantumCircuit(*_q)\n",
        "\n",
        "    for pauli in hamiltonian:\n",
        "        weight = hamiltonian[pauli]\n",
        "        temp_pauli_exponential = exp_pauli(pauli, quantum_register,\n",
        "                                          control_qubit, weight * delta_t)\n",
        "        nq_pauli_exp = temp_pauli_exponential.num_qubits\n",
        "        ncl_pauli_exp = temp_pauli_exponential.num_clbits\n",
        "        nq_exp_dt = exp_delta_t.num_qubits\n",
        "        ncl_exp_dt = exp_delta_t.num_clbits\n",
        "        # print('Number of Qu-/Cl-bits in Pauli-Exp:\\t{}\\t{}'.format(nq_pauli_exp, ncl_pauli_exp))\n",
        "        # print('Number of Qu-/Cl-bits in Exp-dt:\\t{}\\t{}'.format(exp_delta_t.num_qubits,\n",
        "        #                                                          exp_delta_t.num_clbits))\n",
        "        nq_difference = nq_pauli_exp - nq_exp_dt\n",
        "        # print(nq_difference)\n",
        "        if nq_difference > 0:\n",
        "          exp_delta_t.compose(temp_pauli_exponential, inplace=True, front=True)\n",
        "        else:\n",
        "          exp_delta_t.compose(temp_pauli_exponential, inplace=True)\n",
        "\n",
        "    for i in range(trotter_number):\n",
        "        exp_hamiltonian.compose(exp_delta_t, inplace=True)\n",
        "\n",
        "    return exp_hamiltonian.reverse_bits()\n"
      ]
    },
    {
      "cell_type": "code",
      "execution_count": null,
      "metadata": {
        "id": "B0RVvD2JLe8M"
      },
      "outputs": [],
      "source": [
        "import itertools\n",
        "import scipy.linalg as LA\n",
        "import matplotlib.pyplot as plt\n",
        "from tqdm.notebook import trange\n",
        "np.set_printoptions(linewidth=110)\n",
        "\n",
        "from qiskit import QuantumCircuit, ClassicalRegister, QuantumRegister\n",
        "from qiskit import BasicAer, execute\n",
        "from qiskit.compiler import transpile\n",
        "from qiskit.opflow import X, Y, Z, I, One, Zero, PauliOp, PauliSumOp, Suzuki\n",
        "from qiskit.opflow.evolutions import PauliTrotterEvolution\n",
        "from qiskit.quantum_info.operators import Operator, Pauli\n",
        "from qiskit.quantum_info import process_fidelity\n",
        "from qiskit.extensions import RXGate, XGate, CXGate,h\n",
        "from qiskit.circuit import Parameter"
      ]
    },
    {
      "cell_type": "markdown",
      "metadata": {
        "id": "xR9lzO9jQ-Ap"
      },
      "source": [
        "Build operator for x and corresponding data matrix xmd"
      ]
    },
    {
      "cell_type": "code",
      "execution_count": null,
      "metadata": {
        "id": "TzesgRO4LFXw"
      },
      "outputs": [],
      "source": [
        "d=4   # number of qubits\n",
        "xMin=-1.75\n",
        "xMax=1.75\n",
        "x = np.linspace(xMin,xMax, num=2**d)\n",
        "\n",
        "dx=(xMax-xMin)/(2**d-1)\n",
        "xj=0.5*(Operator(Pauli('I'))+Operator(Pauli('Z')))\n",
        "# position operator\n",
        "op_x = xMin * Operator(Pauli('I'* d))\n",
        "op_x += dx * (Operator(Pauli('I'*(d-1))) ^ xj)\n",
        "for j in range(1, d-1):\n",
        "  op_x += dx * 2**j * (Operator(Pauli('I'*(d-j-1))) ^ xj ^ Operator(Pauli('I'*j)))\n",
        "op_x += dx * 2**(d-1) * (xj ^ Operator(Pauli('I'*(d-1))))\n",
        "\n",
        "op_xm = op_x\n",
        "xmd=op_xm.data"
      ]
    },
    {
      "cell_type": "code",
      "execution_count": null,
      "metadata": {
        "id": "HOzGY8-8LwAE"
      },
      "outputs": [],
      "source": [
        "#------------ Utility Functions ------------#\n",
        "\n",
        "def vec_query(arr, my_dict):\n",
        "    '''\n",
        "    This function vectorizes dictionary querying, allowing us to query `my_dict` with a np.array `arr` of keys.\n",
        "    '''\n",
        "\n",
        "    return np.vectorize(my_dict.__getitem__, otypes=[tuple])(arr)\n",
        "\n",
        "def nested_kronecker_product(a):\n",
        "    '''\n",
        "    Handles Kronecker Products for list (i.e.,  a = [Z, Z, Z] will evaluate Z ⊗ Z ⊗ Z)\n",
        "    '''\n",
        "    if len(a) == 2:\n",
        "            return np.kron(a[0],a[1])\n",
        "    else:\n",
        "        return np.kron(a[0], nested_kronecker_product(a[1:]))\n",
        "\n",
        "def Hilbert_Schmidt(mat1, mat2):\n",
        "    # |ψ1> and |ψ2>: <ψ1*|ψ2> for <ψ1|*\n",
        "    return np.trace(mat1@ mat2)\n",
        "\n",
        "def decompose(H, verbose=False):\n",
        "    #define the four Pauli-matrices in a dictionary:\n",
        "    pms = { 'I': np.array([[1, 0], [0, 1]], dtype=complex),\n",
        "             'X': np.array([[0, 1], [1, 0]], dtype=complex),\n",
        "             'Y': np.array([[0, -1j], [1j, 0]], dtype=complex),\n",
        "            'Z': np.array([[1, 0], [0, -1]], dtype=complex)}\n",
        "    if verbose:\n",
        "        print('Terms of the Operator:\\n')\n",
        "    pauli_keys = list(pms.keys()) # Grab Matrix Names for printing\n",
        "    nqb = int(np.log2(H.shape[0])) # Get the number of qubits needed for our pauli strings\n",
        "    output_string = ''\n",
        "    sigma_combinations = list(itertools.product(pauli_keys, repeat=nqb))    # Gives all possible combinations of nqb Pa\n",
        "\n",
        "    for ii in trange(len(sigma_combinations)):\n",
        "        name = sigma_combinations[ii][0]\n",
        "        for ll in range(1, len(sigma_combinations[ii])):\n",
        "            name = name + '⊗' + sigma_combinations[ii][ll]\n",
        "        alt_name = ''.join(sigma_combinations[ii]) # For tequila compatibility\n",
        "        a_ij = (1/(2**nqb)) * Hilbert_Schmidt(nested_kronecker_product(vec_query(np.array(sigma_combinations[ii]), pms)), H)\n",
        "        # If the Hilbert-Schmidt Product doesn't reduce to 0\n",
        "        if a_ij != 0.0:\n",
        "            if abs(a_ij) < 1e-10:\n",
        "                pass\n",
        "            else:\n",
        "                if verbose:\n",
        "                    print(np.round(a_ij.real, 6),'', name)\n",
        "                output_string += str(np.round(a_ij.real, 6))+'*'+alt_name\n",
        "                output_string += '+'\n",
        "    return output_string[:-1] # To ignore that extra plus sign\n",
        "\n",
        "\n",
        "def build_pauli_dict(decomposed_operator):\n",
        "    single_terms = decomposed_operator.split('+')\n",
        "    pauli_dict_out = {}\n",
        "    for term in single_terms:\n",
        "        coeff, pauli_str = term.split('*')\n",
        "        pauli_dict_out[pauli_str] = float(coeff)\n",
        "    return pauli_dict_out\n",
        "\n",
        "\n",
        "def pauli_strings_2_pauli_sum(operator):\n",
        "    tmp_pauli_dict = build_pauli_dict(operator)\n",
        "    # Convert the dict to a list of tuples of the form [('Pauli String', float_coeff), ...]\n",
        "    tmp_pauli_list = list(zip(tmp_pauli_dict.keys(), tmp_pauli_dict.values()))\n",
        "    # Construct a qiskit PauliSumOp from this list\n",
        "    tmp_pauli_sum = PauliSumOp.from_list(tmp_pauli_list)\n",
        "    return tmp_pauli_sum"
      ]
    },
    {
      "cell_type": "markdown",
      "metadata": {
        "id": "g22P9oJlQzDO"
      },
      "source": [
        "Build a circuit for exp(-i*x) and check that it produces the correct output"
      ]
    },
    {
      "cell_type": "code",
      "execution_count": null,
      "metadata": {
        "id": "pyax_G3mtxEi"
      },
      "outputs": [],
      "source": [
        "# Now with our own Hamiltonian:\n",
        "decomposed_xmd = decompose(xmd, verbose=False)\n",
        "# put the Hamiltonian in the dictionary\n",
        "p_dict = build_pauli_dict(decomposed_xmd)\n",
        "#print('Hamiltonian is:\\n{}'.format(decomposed_xmd))\n",
        "p_dict"
      ]
    },
    {
      "cell_type": "code",
      "execution_count": null,
      "metadata": {
        "id": "9gGTwh0Pu24y"
      },
      "outputs": [],
      "source": [
        "quantum_register = QuantumRegister(4, 'q')\n",
        "circuit = hamiltonian_simulation(p_dict,\n",
        "                                 quantum_register, t=1)\n",
        "\n",
        "circ = QuantumCircuit(quantum_register)\n",
        "circ.h(quantum_register)  # Hadamard for visualization\n",
        "circ.append(circuit,quantum_register)\n",
        "circ=circ.decompose()\n",
        "circ.draw(output=\"mpl\")"
      ]
    },
    {
      "cell_type": "code",
      "execution_count": null,
      "metadata": {
        "id": "filVIVn8P9Go"
      },
      "outputs": [],
      "source": [
        "out = execute(circ, backend=BasicAer.get_backend('statevector_simulator')).result()\n",
        "out = out.get_statevector()"
      ]
    },
    {
      "cell_type": "code",
      "execution_count": null,
      "metadata": {
        "id": "bsCFLJpqQMdm"
      },
      "outputs": [],
      "source": [
        "plt.plot(x,np.real(out))\n",
        "plt.plot(x,np.real(np.exp(-1j*x)/4),'o')\n",
        "plt.plot(x,np.imag(out))\n",
        "plt.plot(x,np.imag(np.exp(-1j*x)/4),'o')"
      ]
    },
    {
      "cell_type": "markdown",
      "metadata": {
        "id": "XhZUIA4TSuIc"
      },
      "source": [
        "## Hadamard test"
      ]
    },
    {
      "cell_type": "markdown",
      "metadata": {
        "id": "3dl8VOHvRNKc"
      },
      "source": [
        "Build circuit of cntrl-exp(-i*x) necessary for the Hadamard test"
      ]
    },
    {
      "cell_type": "code",
      "execution_count": null,
      "metadata": {
        "id": "B69gKAePLSAe"
      },
      "outputs": [],
      "source": [
        "control_qubit = QuantumRegister(1, 'c')\n",
        "q_reg = QuantumRegister(4, 'q')\n",
        "control_circuit = hamiltonian_simulation(p_dict, q_reg,\n",
        "                                 control_qubit[0], t=1)\n",
        "#                                 control_qubit[0], t=1/(2*np.pi))\n",
        "control_circuit.draw(output=\"mpl\")"
      ]
    },
    {
      "cell_type": "markdown",
      "metadata": {
        "id": "1mchaWnXRYX6"
      },
      "source": [
        "Build circuit for Hadamard test"
      ]
    },
    {
      "cell_type": "code",
      "execution_count": null,
      "metadata": {
        "id": "Ir0CWWrtNSkB"
      },
      "outputs": [],
      "source": [
        "# Gaussian wavepacket on a grid\n",
        "mu=-0.5\n",
        "psi= (1/(np.sqrt(2*np.pi)*2*0.4)*np.exp(-(0.5*(x-mu)**2)/(2*0.016)))*np.exp(-600j*(x-mu))\n",
        "psi/= np.sqrt(np.sum(np.abs(psi)**2))\n",
        "\n",
        "print(\"Re(e^(ix))=\",np.sum(psi*np.cos(x)*np.conj(psi)))\n",
        "\n",
        "# Quantum circuit for initial state generated by initialize\n",
        "q=QuantumRegister(d)\n",
        "cpsi=QuantumCircuit(q)    # circuit\n",
        "cpsi.initialize(psi,q[:])\n",
        "\n",
        "qre = QuantumRegister(5)\n",
        "cre = ClassicalRegister(1)\n",
        "circ = QuantumCircuit(qre,cre)\n",
        "\n",
        "circ.append(cpsi,qre[1:])\n",
        "circ.barrier()\n",
        "circ.h(0)\n",
        "circ.append(control_circuit, qre)\n",
        "# # circ.append(QFT(d+1),qre[1:])\n",
        "# # circ.x(0)\n",
        "# # circ.append(qc2_transc, qre)\n",
        "# # circ.x(0)\n",
        "circ.h(0)\n",
        "circ.barrier()\n",
        "circ.measure(0,0)"
      ]
    },
    {
      "cell_type": "code",
      "execution_count": null,
      "metadata": {
        "id": "-Wm9fSnCTK7N"
      },
      "outputs": [],
      "source": [
        "circ.draw(output=\"mpl\")"
      ]
    },
    {
      "cell_type": "markdown",
      "metadata": {
        "id": "_5rPfOgzRdap"
      },
      "source": [
        "Plot output of Hadamard test as a function of number of shots"
      ]
    },
    {
      "cell_type": "code",
      "execution_count": null,
      "metadata": {
        "id": "bQ9hD3Br9Giv"
      },
      "outputs": [],
      "source": [
        "from qiskit import execute, Aer\n",
        "#M_simulator=Aer.backends(name='qasm_simulator')[0]\n",
        "M_simulator=BasicAer.get_backend('qasm_simulator')\n",
        "nit=40\n",
        "av=np.zeros(nit)\n",
        "nm=np.zeros(nit)\n",
        "for j in range(nit):\n",
        "  nm[j]=(j+1)*1000\n",
        "  job=execute(circ, M_simulator,shots=int(nm[j]))\n",
        "  answer=job.result().get_counts()\n",
        "  # plot_histogram(answer)\n",
        "  anc=np.zeros(2)\n",
        "  count=0\n",
        "  for key in sorted(answer.keys()):\n",
        "    anc[count]=answer[key]\n",
        "    count+=1\n",
        "#    av[j]=np.arccos((anc[0]-anc[1])/(anc[0]+anc[1]))*(xMax-xMin)+xMin\n",
        "    av[j]=((anc[0]-anc[1])/(anc[0]+anc[1]))\n",
        "plt.plot(nm*0.001,av-0.869275973692271,'-o')\n",
        "plt.grid()"
      ]
    },
    {
      "cell_type": "code",
      "execution_count": null,
      "metadata": {
        "id": "DkIjIXvg9oeN"
      },
      "outputs": [],
      "source": []
    },
    {
      "cell_type": "markdown",
      "source": [
        "# [Lindblad Equation](https://qiskit.org/ecosystem/dynamics/tutorials/Lindblad_dynamics_simulation.html)\n",
        "\n",
        "\n",
        "##Solving the Lindblad dynamics of a qubit chain\n",
        "\n",
        "In this tutorial we walk through an example of solving the time evolution of the density matrix of coupled qubits using qiskit_dynamics. The model that we solve consists of a time-independent Hamiltonian for qubits interacting with their nearest neighbors along a ring. In addition, energy relaxation terms acting on each qubit are modeled by using a non-Markovian master equation in Lindblad form. We will discuss the system’s steady state as a function of the model parameters.\n",
        "\n",
        "In the sections below we define a model, solve the dynamics and plot some observables using the following steps:\n",
        "\n",
        "* Define the number of qubits and precompute some matrix operators.\n",
        "* Define all relevant parameters and setup a Solver instance with the model of the system, consisting of the Hamiltonian and the jump operators of the Lindblad dissipator.\n",
        "* Define the initial state and other parameters for the initial value problem, and evolve the system state.\n",
        "* Define observables and calculate their values as a function of time.\n",
        "* Plot some observables and discuss the results.\n",
        "\n",
        "The model that we solve describes the time evolution of N qubits with coherent dynamics dictated by a given Hamiltonian, and the environment modeled as a memory-less (Markovian) bath. Together, the density matrix evolves according to the Lindblad master equation,\n",
        "$$\\partial_t \\rho =. - \\frac{i}{\\hbar}[H,\\rho]+\\mathcal{D}[\\rho].$$\n",
        "The Hamiltonian is composed of a sum of single-qubit terms and two-qubit interactions, $$H = H_0+H_I.$$\n",
        "We take the qubits to have identical parameters, with a diagonal term of frequency $\\nu_z$ and a transverse term of amplitude $\\nu_x$. The single-qubit part of the Hamiltonian is $$H_0=\\frac{1}{2}\\sum_{i}^N[s \\pi \\nu_i Z_i + 2 \\pi \\nu_x X_i],$$\n",
        "where $\\{ X_i, Y_i, Z_i\\}$ are the Pauli matrices for qubit $i$ (also written as $\\sigma_i^a$ with $a \\in \\{x,y,z\\}$).\n",
        "\n",
        "We set the interactions between nearest-neighbor qubits to be of 'flip-flop' type, aslo called 'XY' coupling. We consider periodic boundary conditions, such that the last qubit is connected to the first qubit as well, with $$H_I = \\frac{1}{2}\\sum_{(i,j)}2 \\pi J[X_iX_j+Y_iY_j]$$\n",
        "\n",
        "In qiskit, each qubit’s ground state is by convention the state $\\vert 0 \\rangle$ which is the eigenstate of\n",
        "Z\n",
        " with eigenvalue 1 (the state that is known also as “up”). Therefore the action of energy relaxation terms describing damping into the environment tend to bring qubits to this state, as generated by the Lindblad dissipator $$\\mathcal{D}[\\rho] =. \\sum_i \\Gamma \\left(\\sigma_i^+ \\rho \\sigma_i^- - \\frac{1}{2}\\{\\sigma_i^- \\sigma_i^+, \\rho\\}\\right),$$\n",
        " with $\\sigma_i^\\pm = \\frac{1}{2}(X_i \\pm i Y_i)$."
      ],
      "metadata": {
        "id": "nMu72xHbiCcQ"
      }
    },
    {
      "cell_type": "markdown",
      "source": [
        "## Prepare the single-qubit operators\n",
        "\n",
        "In qiskit-dynamics, dynamical simulations are defined using the operators that act on the states appearing in the differential equations. We start by creating the single-qubit operators that act on each qubit in the simulation, and are represented as matrices in the Hilbert space of N qubits. Using qiskit library routines, it is easy to create N -qubit operators that are products of basic single-qubit operators, by using labels (descriptive strings), and the callable syntax of Pauli classes to indicate a qubit number, as below.\n",
        "\n",
        "Below, we first set the number of qubits N to be simulated, and then prepare and store the single-qubit Pauli operators that will be used in the rest of this tutorial."
      ],
      "metadata": {
        "id": "CFEYN27LnNpD"
      }
    },
    {
      "cell_type": "code",
      "source": [
        "import numpy as np\n",
        "from qiskit.quantum_info import Operator, Pauli\n",
        "\n",
        "N = 6\n",
        "\n",
        "x_ops = []\n",
        "y_ops = []\n",
        "z_ops = []\n",
        "qubits = range(N)\n",
        "zeros = Operator(np.zeros((2 ** N, 2 ** N)))\n",
        "\n",
        "for i in qubits:\n",
        "    X = zeros + Pauli('X')(i)\n",
        "    x_ops.append(X)\n",
        "\n",
        "    Y = zeros + Pauli('Y')(i)\n",
        "    y_ops.append(Y)\n",
        "\n",
        "    Z = zeros + Pauli('Z')(i)\n",
        "    z_ops.append(Z)"
      ],
      "metadata": {
        "id": "9UnvPvZsiFcj"
      },
      "execution_count": null,
      "outputs": []
    },
    {
      "cell_type": "markdown",
      "source": [
        "## Setup the solver¶\n",
        "\n",
        "In this section we setup a Solver class that stores and manipulates the model to be solved. In the following, we will set $\\hbar =1$ and set the driving amplitude to be $\\nu_x \\equiv 1$. This sets the time units, with the other frequency parameters scaled accordingly. Below, we first set a few values for these free parameters, and then create the Hamiltonian matrix and the list of dissipator operators. We build the full Hamiltonian matrix by summing all single-qubit and two-qubit terms. Since there are no time-dependent terms, and we do not plan to take partial derivatives of parameters, we do not use the Signal class in this tutorial. See the other tutorials for various generalizations of this approach supported with qiskit-dynamics."
      ],
      "metadata": {
        "id": "Lbw7N6vunppB"
      }
    },
    {
      "cell_type": "markdown",
      "source": [
        "[Qiskit_dynamics](https://github.com/Qiskit-Extensions/qiskit-dynamics)"
      ],
      "metadata": {
        "id": "EiuJZqrdi8Gk"
      }
    },
    {
      "cell_type": "code",
      "source": [
        "!pip install qiskit-dynamics"
      ],
      "metadata": {
        "colab": {
          "base_uri": "https://localhost:8080/"
        },
        "id": "XX5kQKXmimcJ",
        "outputId": "5400eeec-e7b0-4c5e-8e24-c8a8a4f15c7d"
      },
      "execution_count": null,
      "outputs": [
        {
          "output_type": "stream",
          "name": "stdout",
          "text": [
            "Collecting qiskit-dynamics\n",
            "  Downloading qiskit_dynamics-0.4.2-py3-none-any.whl (187 kB)\n",
            "\u001b[2K     \u001b[90m━━━━━━━━━━━━━━━━━━━━━━━━━━━━━━━━━━━━━━━\u001b[0m \u001b[32m187.7/187.7 kB\u001b[0m \u001b[31m2.6 MB/s\u001b[0m eta \u001b[36m0:00:00\u001b[0m\n",
            "\u001b[?25hRequirement already satisfied: numpy>=1.17 in /usr/local/lib/python3.10/dist-packages (from qiskit-dynamics) (1.23.0)\n",
            "Requirement already satisfied: scipy>=1.4 in /usr/local/lib/python3.10/dist-packages (from qiskit-dynamics) (1.10.1)\n",
            "Requirement already satisfied: matplotlib>=3.0 in /usr/local/lib/python3.10/dist-packages (from qiskit-dynamics) (3.7.1)\n",
            "Requirement already satisfied: qiskit-terra>=0.23.0 in /usr/local/lib/python3.10/dist-packages (from qiskit-dynamics) (0.25.1)\n",
            "Collecting multiset>=3.0.1 (from qiskit-dynamics)\n",
            "  Downloading multiset-3.0.1-py2.py3-none-any.whl (9.6 kB)\n",
            "Requirement already satisfied: sympy>=1.12 in /usr/local/lib/python3.10/dist-packages (from qiskit-dynamics) (1.12)\n",
            "Requirement already satisfied: contourpy>=1.0.1 in /usr/local/lib/python3.10/dist-packages (from matplotlib>=3.0->qiskit-dynamics) (1.1.0)\n",
            "Requirement already satisfied: cycler>=0.10 in /usr/local/lib/python3.10/dist-packages (from matplotlib>=3.0->qiskit-dynamics) (0.11.0)\n",
            "Requirement already satisfied: fonttools>=4.22.0 in /usr/local/lib/python3.10/dist-packages (from matplotlib>=3.0->qiskit-dynamics) (4.42.0)\n",
            "Requirement already satisfied: kiwisolver>=1.0.1 in /usr/local/lib/python3.10/dist-packages (from matplotlib>=3.0->qiskit-dynamics) (1.4.4)\n",
            "Requirement already satisfied: packaging>=20.0 in /usr/local/lib/python3.10/dist-packages (from matplotlib>=3.0->qiskit-dynamics) (23.1)\n",
            "Requirement already satisfied: pillow>=6.2.0 in /usr/local/lib/python3.10/dist-packages (from matplotlib>=3.0->qiskit-dynamics) (9.4.0)\n",
            "Requirement already satisfied: pyparsing>=2.3.1 in /usr/local/lib/python3.10/dist-packages (from matplotlib>=3.0->qiskit-dynamics) (3.1.1)\n",
            "Requirement already satisfied: python-dateutil>=2.7 in /usr/local/lib/python3.10/dist-packages (from matplotlib>=3.0->qiskit-dynamics) (2.8.2)\n",
            "Requirement already satisfied: rustworkx>=0.13.0 in /usr/local/lib/python3.10/dist-packages (from qiskit-terra>=0.23.0->qiskit-dynamics) (0.13.1)\n",
            "Requirement already satisfied: ply>=3.10 in /usr/local/lib/python3.10/dist-packages (from qiskit-terra>=0.23.0->qiskit-dynamics) (3.11)\n",
            "Requirement already satisfied: psutil>=5 in /usr/local/lib/python3.10/dist-packages (from qiskit-terra>=0.23.0->qiskit-dynamics) (5.9.5)\n",
            "Requirement already satisfied: dill>=0.3 in /usr/local/lib/python3.10/dist-packages (from qiskit-terra>=0.23.0->qiskit-dynamics) (0.3.7)\n",
            "Requirement already satisfied: stevedore>=3.0.0 in /usr/local/lib/python3.10/dist-packages (from qiskit-terra>=0.23.0->qiskit-dynamics) (5.1.0)\n",
            "Requirement already satisfied: symengine<0.10,>=0.9 in /usr/local/lib/python3.10/dist-packages (from qiskit-terra>=0.23.0->qiskit-dynamics) (0.9.2)\n",
            "Requirement already satisfied: typing-extensions in /usr/local/lib/python3.10/dist-packages (from qiskit-terra>=0.23.0->qiskit-dynamics) (4.7.1)\n",
            "Requirement already satisfied: mpmath>=0.19 in /usr/local/lib/python3.10/dist-packages (from sympy>=1.12->qiskit-dynamics) (1.3.0)\n",
            "Requirement already satisfied: six>=1.5 in /usr/local/lib/python3.10/dist-packages (from python-dateutil>=2.7->matplotlib>=3.0->qiskit-dynamics) (1.16.0)\n",
            "Requirement already satisfied: pbr!=2.1.0,>=2.0.0 in /usr/local/lib/python3.10/dist-packages (from stevedore>=3.0.0->qiskit-terra>=0.23.0->qiskit-dynamics) (5.11.1)\n",
            "Installing collected packages: multiset, qiskit-dynamics\n",
            "Successfully installed multiset-3.0.1 qiskit-dynamics-0.4.2\n"
          ]
        }
      ]
    },
    {
      "cell_type": "code",
      "source": [
        "from qiskit_dynamics import Solver, Signal\n",
        "\n",
        "nu_z = 4.\n",
        "nu_x = 1.\n",
        "J = 4.\n",
        "Gamma = 4.\n",
        "\n",
        "H = zeros\n",
        "for i in qubits:\n",
        "    X = x_ops[i]\n",
        "    Z = z_ops[i]\n",
        "    H += .5 * 2 * np.pi * nu_x * X\n",
        "    H += .5 * 2 * np.pi * nu_z * Z\n",
        "\n",
        "    if N > 1:\n",
        "        j = i + 1 if i < (N - 1) else 0  # Nearest neighbors, with periodic boundary conditions\n",
        "        op = zeros + Pauli('XX')(i, j)\n",
        "        H += .5 * 2 * np.pi * J * op\n",
        "\n",
        "        op = zeros + Pauli('YY')(i, j)\n",
        "        H += .5 * 2 * np.pi * J * op\n",
        "\n",
        "L_ops = []\n",
        "L_sig = []\n",
        "for i in qubits:\n",
        "    X = x_ops[i]\n",
        "    Y = y_ops[i]\n",
        "    L_ops.append(np.sqrt(Gamma) * 0.5 * (X + 1j * Y))\n",
        "\n",
        "solver = Solver(static_hamiltonian=H, static_dissipators=L_ops)"
      ],
      "metadata": {
        "colab": {
          "base_uri": "https://localhost:8080/"
        },
        "id": "ujGDviBpiS8W",
        "outputId": "cbdc8179-5962-44c8-c1eb-0ac9b8518fc7"
      },
      "execution_count": null,
      "outputs": [
        {
          "output_type": "stream",
          "name": "stderr",
          "text": [
            "/usr/local/lib/python3.10/dist-packages/qiskit_dynamics/dispatch/backends/jax.py:34: UserWarning: The functionality in the perturbation module of Qiskit Dynamics requires a JAX version <= 0.4.6, due to a bug in JAX versions > 0.4.6. For versions 0.4.4, 0.4.5, and 0.4.6, using the perturbation module functionality requires setting os.environ['JAX_JIT_PJIT_API_MERGE'] = '0' before importing JAX or Dynamics.\n",
            "  warnings.warn(\n"
          ]
        }
      ]
    },
    {
      "cell_type": "markdown",
      "source": [
        "## Define the simulation parameters and solve the dynamics\n",
        "\n",
        "We now define the initial state for the simulation, the time span to simulate for, and the intermediate times for which the solution is requested."
      ],
      "metadata": {
        "id": "ukbafcwboISE"
      }
    },
    {
      "cell_type": "code",
      "source": [
        "from qiskit.quantum_info import DensityMatrix\n",
        "\n",
        "t_final = 8. / Gamma\n",
        "tau = .01\n",
        "\n",
        "# A density matrix with all qubits in ground state\n",
        "y0 = DensityMatrix.from_label('0' * N)\n",
        "\n",
        "n_steps = int(np.ceil(t_final / tau)) + 1\n",
        "t_eval = np.linspace(0., t_final, n_steps)\n",
        "\n",
        "sol = solver.solve(t_span=[0., t_final], y0=y0, t_eval=t_eval)"
      ],
      "metadata": {
        "id": "3ctlly_YiYnb"
      },
      "execution_count": null,
      "outputs": []
    },
    {
      "cell_type": "markdown",
      "source": [
        "## Define the observables and calculate their values¶\n",
        "\n",
        "Below we calculate single-qubit Pauli expectation values for each qubit as a function of time (which define also the Bloch vector), $$\\langle \\sigma_i^a(t)\\rangle,$$ and also the mean components of the collective Bloch vector over all qubits, at each evaluation time, $$\\frac{1}{N}\\sum_i \\langle \\sigma_i^a(t)\\rangle.$$\n",
        "Since both the model and the initial state as defined above are translation invariant (all qubits have identical parameters, and there is no boundary), we expect the solution to remain translation invariant as well. Hence the mean Bloch vector should be equal to any qubit’s Bloch vector, and observing that this equality holds is a simple and useful verification of the numerical solution that will be added in the next section."
      ],
      "metadata": {
        "id": "xNg7Is0Qody5"
      }
    },
    {
      "cell_type": "code",
      "source": [
        "n_times = len(sol.y)\n",
        "x_data = np.zeros((N, n_times))\n",
        "y_data = np.zeros((N, n_times))\n",
        "z_data = np.zeros((N, n_times))\n",
        "x_mean = np.zeros((n_times,))\n",
        "y_mean = np.zeros((n_times,))\n",
        "z_mean = np.zeros((n_times,))\n",
        "\n",
        "for t_i, sol_t in enumerate(sol.y):\n",
        "    for qubit, obs in enumerate(x_ops):\n",
        "        x_data[qubit, t_i] = sol_t.expectation_value(obs).real\n",
        "    x_mean[t_i] = np.mean(x_data[:, t_i])\n",
        "\n",
        "    for qubit, obs in enumerate(y_ops):\n",
        "        y_data[qubit, t_i] = sol_t.expectation_value(obs).real\n",
        "    y_mean[t_i] = np.mean(y_data[:, t_i])\n",
        "\n",
        "    for qubit, obs in enumerate(z_ops):\n",
        "        z_data[qubit, t_i] = sol_t.expectation_value(obs).real\n",
        "    z_mean[t_i] = np.mean(z_data[:, t_i])"
      ],
      "metadata": {
        "id": "MAGsQzO9jNGM"
      },
      "execution_count": null,
      "outputs": []
    },
    {
      "cell_type": "markdown",
      "source": [
        "## Plot some observables and discuss the results¶\n",
        "\n",
        "Finally, let’s plot some of the results of our dynamical simulation, using the single-qubit observables calculated as a function of time. We plot both the time evolution of the collective Bloch vector, and the Bloch vector at the final time, depicted in 3D within the Bloch sphere. We also print a warning if the Bloch vector at the final time is not translation invariant according to a simplified random check of two values (taken up to a small numerical precision).\n",
        "\n",
        "Looking at the figures below, we see that for the above parameters the steady state is nearly pure, with a large ground state component and a small tilt along the negative x axis. The direction and magnitude of the collective Bloch vector is determined by a nontrivial competition between the single-site terms, the qubit interactions, and the damping. To test this statement, if you go back and vary the interaction strength J, you can see that the steady state may change significantly. For example for $J=1$ the collective Bloch vector will significantly tilt along $+x$, while for $J=3$ it will significantly shorten (the steady state becomes a mixed state), becoming tilted along $−y$. This complex dependence of the Bloch vector on the parameters can be systematically analyzed - we encourage you to try it!"
      ],
      "metadata": {
        "id": "N0Ml3LIPpBej"
      }
    },
    {
      "cell_type": "code",
      "source": [
        "from qiskit.visualization import plot_bloch_vector\n",
        "import matplotlib.pyplot as plt\n",
        "%matplotlib inline\n",
        "\n",
        "fontsize = 16\n",
        "\n",
        "_, ax = plt.subplots(figsize = (10, 6))\n",
        "plt.rcParams.update({'font.size': fontsize})\n",
        "plt.plot(t_eval, x_mean, label = '$ N^{-1}\\sum_i \\\\langle X_i \\\\rangle$')\n",
        "plt.plot(t_eval, y_mean, label = '$ N^{-1}\\sum_i \\\\langle Y_i \\\\rangle$')\n",
        "plt.plot(t_eval, z_mean, label = '$ N^{-1}\\sum_i \\\\langle Z_i \\\\rangle$')\n",
        "plt.legend(fontsize = fontsize)\n",
        "ax.set_xlabel('$t$', fontsize = fontsize)\n",
        "ax.set_title('Mean Bloch vector vs. $t$', fontsize = fontsize)\n",
        "\n",
        "display(plot_bloch_vector([x_mean[-1], y_mean[-1], z_mean[-1]],\n",
        "                  f'Mean Bloch vector at $t = {t_eval[-1]}$'))\n",
        "\n",
        "if N > 1 and ((abs(x_mean[-1]) > 1e-5 and abs(x_data[0, -1] / x_mean[-1] - 1) > 1e-5 or\n",
        "              (abs(z_mean[-1]) > 1e-5 and abs(z_data[1, -1] / z_mean[-1] - 1) > 1e-5))):\n",
        "    print(\"The solution at the final time appears to break translation invariance. \"\n",
        "          \"The precision of the simulation should be examined.\")"
      ],
      "metadata": {
        "colab": {
          "base_uri": "https://localhost:8080/",
          "height": 1000
        },
        "id": "QWPmD_O1jS5k",
        "outputId": "3479ed57-b972-4caa-abd7-2ac9229d13e4"
      },
      "execution_count": null,
      "outputs": [
        {
          "output_type": "display_data",
          "data": {
            "text/plain": [
              "<Figure size 500x500 with 1 Axes>"
            ],
            "image/png": "[encoded data removed]"
          },
          "metadata": {
            "image/png": {
              "width": 519,
              "height": 542
            }
          }
        },
        {
          "output_type": "display_data",
          "data": {
            "text/plain": [
              "<Figure size 1000x600 with 1 Axes>"
            ],
            "image/png": "[encoded data removed]"
          },
          "metadata": {
            "image/png": {
              "width": 838,
              "height": 558
            }
          }
        }
      ]
    },
    {
      "cell_type": "code",
      "source": [],
      "metadata": {
        "id": "BLTbWiFSjXIV"
      },
      "execution_count": null,
      "outputs": []
    },
    {
      "cell_type": "markdown",
      "source": [],
      "metadata": {
        "id": "cxZVuxN-5-tY"
      }
    },
    {
      "cell_type": "markdown",
      "source": [
        "$\\left(\\begin{array}[cc] \\\\ \\rho(\\tau)  \\\\  \\dots \\end{array}\\right) =\n",
        "\\left(\\begin{array}[cc] \\\\ \\mathcal{G'}(\\tau) & \\mathcal{D_{G'\\dagger}}(\\tau)  \\\\  \\mathcal{D_{G'}}(\\tau) & -\\mathcal{G'}^\\dagger(\\tau) \\end{array}\\right)\n",
        " \\left(\\begin{array}[cc] \\\\ \\rho(0)  \\\\  0 \\end{array}\\right)$"
      ],
      "metadata": {
        "id": "tvPgwHoi1SAQ"
      }
    },
    {
      "cell_type": "markdown",
      "source": [
        "$ \\rho(\\tau) = \\mathcal{G'}(\\tau) \\rho(0)$"
      ],
      "metadata": {
        "id": "4m2E3b8c4SKB"
      }
    },
    {
      "cell_type": "code",
      "source": [],
      "metadata": {
        "id": "S40ktIKW5_O8"
      },
      "execution_count": null,
      "outputs": []
    }
  ]
}